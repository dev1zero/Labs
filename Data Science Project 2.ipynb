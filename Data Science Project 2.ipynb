{
 "metadata": {
  "name": "",
  "signature": "sha256:0c66ebe9b5cce22f6450442d547ae8ce205ebfec2519bb6ce79626fab58c4377"
 },
 "nbformat": 3,
 "nbformat_minor": 0,
 "worksheets": [
  {
   "cells": [
    {
     "cell_type": "code",
     "collapsed": false,
     "input": [
      "import pandas as pd\n",
      "import numpy as np\n",
      "from sklearn.ensemble import RandomForestClassifier\n",
      "from sklearn.grid_search import GridSearchCV\n",
      "from sklearn.cross_validation import train_test_split\n",
      "from sklearn.metrics import roc_auc_score\n",
      "from sklearn.metrics import classification_report\n",
      "from sklearn.metrics import confusion_matrix\n",
      "from sklearn.metrics import accuracy_score\n",
      "from sklearn.metrics import roc_curve\n",
      "import math\n",
      "\n",
      "%pylab inline\n",
      "# Import the data\n",
      "df= pd.read_csv(\"sammamish2.csv\")"
     ],
     "language": "python",
     "metadata": {},
     "outputs": [
      {
       "output_type": "stream",
       "stream": "stdout",
       "text": [
        "Populating the interactive namespace from numpy and matplotlib\n"
       ]
      }
     ],
     "prompt_number": 735
    },
    {
     "cell_type": "markdown",
     "metadata": {},
     "source": [
      "#EDA"
     ]
    },
    {
     "cell_type": "markdown",
     "metadata": {},
     "source": [
      "Before we attempt to build a classifier, a detailed EDA on the data should reveal some interesting facts that will help in chossing the right attributes to use for the classfier. First some basic stattistics are run and then each attribute will be analyzed to see what information can be hypothesized."
     ]
    },
    {
     "cell_type": "code",
     "collapsed": false,
     "input": [
      "df.head()"
     ],
     "language": "python",
     "metadata": {},
     "outputs": [
      {
       "html": [
        "<div style=\"max-height:1000px;max-width:1500px;overflow:auto;\">\n",
        "<table border=\"1\" class=\"dataframe\">\n",
        "  <thead>\n",
        "    <tr style=\"text-align: right;\">\n",
        "      <th></th>\n",
        "      <th>Listing_Month</th>\n",
        "      <th>Sale_Price</th>\n",
        "      <th>Built_Renovated</th>\n",
        "      <th>Grade</th>\n",
        "      <th>Condition</th>\n",
        "      <th>Living_Area</th>\n",
        "      <th>Total_Basement</th>\n",
        "      <th>Finished_Basement</th>\n",
        "      <th>Bedrooms</th>\n",
        "      <th>Bathrooms</th>\n",
        "      <th>Zoning</th>\n",
        "      <th>Lot_size </th>\n",
        "      <th>Per_Sqft_Price</th>\n",
        "      <th>Sale_Rank</th>\n",
        "    </tr>\n",
        "  </thead>\n",
        "  <tbody>\n",
        "    <tr>\n",
        "      <th>0</th>\n",
        "      <td>     April</td>\n",
        "      <td> 785000</td>\n",
        "      <td> 2011</td>\n",
        "      <td> Better</td>\n",
        "      <td> Average</td>\n",
        "      <td> 3010</td>\n",
        "      <td> 0</td>\n",
        "      <td> 0</td>\n",
        "      <td> 3</td>\n",
        "      <td> 2.75</td>\n",
        "      <td>   R6</td>\n",
        "      <td> 1842</td>\n",
        "      <td> 260.797342</td>\n",
        "      <td> Quick_Sale</td>\n",
        "    </tr>\n",
        "    <tr>\n",
        "      <th>1</th>\n",
        "      <td>     March</td>\n",
        "      <td> 550000</td>\n",
        "      <td> 2001</td>\n",
        "      <td>   Good</td>\n",
        "      <td> Average</td>\n",
        "      <td> 2170</td>\n",
        "      <td> 0</td>\n",
        "      <td> 0</td>\n",
        "      <td> 3</td>\n",
        "      <td> 2.50</td>\n",
        "      <td>   R8</td>\n",
        "      <td> 3000</td>\n",
        "      <td> 253.456221</td>\n",
        "      <td> Quick_Sale</td>\n",
        "    </tr>\n",
        "    <tr>\n",
        "      <th>2</th>\n",
        "      <td>   Febuary</td>\n",
        "      <td> 451500</td>\n",
        "      <td> 1993</td>\n",
        "      <td>   Good</td>\n",
        "      <td> Average</td>\n",
        "      <td> 1540</td>\n",
        "      <td> 0</td>\n",
        "      <td> 0</td>\n",
        "      <td> 3</td>\n",
        "      <td> 2.25</td>\n",
        "      <td> R12P</td>\n",
        "      <td> 3371</td>\n",
        "      <td> 293.181818</td>\n",
        "      <td> Quick_Sale</td>\n",
        "    </tr>\n",
        "    <tr>\n",
        "      <th>3</th>\n",
        "      <td> September</td>\n",
        "      <td> 510000</td>\n",
        "      <td> 1994</td>\n",
        "      <td>   Good</td>\n",
        "      <td> Average</td>\n",
        "      <td> 1860</td>\n",
        "      <td> 0</td>\n",
        "      <td> 0</td>\n",
        "      <td> 3</td>\n",
        "      <td> 2.50</td>\n",
        "      <td>  R6P</td>\n",
        "      <td> 3658</td>\n",
        "      <td> 274.193548</td>\n",
        "      <td> Quick_Sale</td>\n",
        "    </tr>\n",
        "    <tr>\n",
        "      <th>4</th>\n",
        "      <td>      June</td>\n",
        "      <td> 449950</td>\n",
        "      <td> 1994</td>\n",
        "      <td>   Good</td>\n",
        "      <td> Average</td>\n",
        "      <td> 1530</td>\n",
        "      <td> 0</td>\n",
        "      <td> 0</td>\n",
        "      <td> 3</td>\n",
        "      <td> 2.50</td>\n",
        "      <td>  R6P</td>\n",
        "      <td> 3840</td>\n",
        "      <td> 294.084967</td>\n",
        "      <td> Quick_Sale</td>\n",
        "    </tr>\n",
        "  </tbody>\n",
        "</table>\n",
        "</div>"
       ],
       "metadata": {},
       "output_type": "pyout",
       "prompt_number": 736,
       "text": [
        "  Listing_Month  Sale_Price  Built_Renovated   Grade Condition  Living_Area  \\\n",
        "0         April      785000             2011  Better   Average         3010   \n",
        "1         March      550000             2001    Good   Average         2170   \n",
        "2       Febuary      451500             1993    Good   Average         1540   \n",
        "3     September      510000             1994    Good   Average         1860   \n",
        "4          June      449950             1994    Good   Average         1530   \n",
        "\n",
        "   Total_Basement  Finished_Basement  Bedrooms  Bathrooms Zoning  Lot_size   \\\n",
        "0               0                  0         3       2.75     R6       1842   \n",
        "1               0                  0         3       2.50     R8       3000   \n",
        "2               0                  0         3       2.25   R12P       3371   \n",
        "3               0                  0         3       2.50    R6P       3658   \n",
        "4               0                  0         3       2.50    R6P       3840   \n",
        "\n",
        "   Per_Sqft_Price   Sale_Rank  \n",
        "0      260.797342  Quick_Sale  \n",
        "1      253.456221  Quick_Sale  \n",
        "2      293.181818  Quick_Sale  \n",
        "3      274.193548  Quick_Sale  \n",
        "4      294.084967  Quick_Sale  "
       ]
      }
     ],
     "prompt_number": 736
    },
    {
     "cell_type": "code",
     "collapsed": false,
     "input": [
      "df.describe()"
     ],
     "language": "python",
     "metadata": {},
     "outputs": [
      {
       "html": [
        "<div style=\"max-height:1000px;max-width:1500px;overflow:auto;\">\n",
        "<table border=\"1\" class=\"dataframe\">\n",
        "  <thead>\n",
        "    <tr style=\"text-align: right;\">\n",
        "      <th></th>\n",
        "      <th>Sale_Price</th>\n",
        "      <th>Built_Renovated</th>\n",
        "      <th>Living_Area</th>\n",
        "      <th>Total_Basement</th>\n",
        "      <th>Finished_Basement</th>\n",
        "      <th>Bedrooms</th>\n",
        "      <th>Bathrooms</th>\n",
        "      <th>Lot_size </th>\n",
        "      <th>Per_Sqft_Price</th>\n",
        "    </tr>\n",
        "  </thead>\n",
        "  <tbody>\n",
        "    <tr>\n",
        "      <th>count</th>\n",
        "      <td>     353.000000</td>\n",
        "      <td>  353.000000</td>\n",
        "      <td>  353.000000</td>\n",
        "      <td>  353.000000</td>\n",
        "      <td>  353.000000</td>\n",
        "      <td> 353.000000</td>\n",
        "      <td> 353.000000</td>\n",
        "      <td>    353.000000</td>\n",
        "      <td> 353.000000</td>\n",
        "    </tr>\n",
        "    <tr>\n",
        "      <th>mean</th>\n",
        "      <td>  670605.345609</td>\n",
        "      <td> 1993.524079</td>\n",
        "      <td> 2679.308782</td>\n",
        "      <td>  143.031161</td>\n",
        "      <td>  118.356941</td>\n",
        "      <td>   3.764873</td>\n",
        "      <td>   2.650850</td>\n",
        "      <td>  13568.288952</td>\n",
        "      <td> 257.580589</td>\n",
        "    </tr>\n",
        "    <tr>\n",
        "      <th>std</th>\n",
        "      <td>  144233.823842</td>\n",
        "      <td>   11.970376</td>\n",
        "      <td>  738.256579</td>\n",
        "      <td>  393.344693</td>\n",
        "      <td>  340.481974</td>\n",
        "      <td>   0.660330</td>\n",
        "      <td>   0.528397</td>\n",
        "      <td>  14468.396331</td>\n",
        "      <td>  46.305457</td>\n",
        "    </tr>\n",
        "    <tr>\n",
        "      <th>min</th>\n",
        "      <td>  406430.000000</td>\n",
        "      <td> 1932.000000</td>\n",
        "      <td> 1010.000000</td>\n",
        "      <td>    0.000000</td>\n",
        "      <td>    0.000000</td>\n",
        "      <td>   2.000000</td>\n",
        "      <td>   1.000000</td>\n",
        "      <td>   1842.000000</td>\n",
        "      <td> 143.318965</td>\n",
        "    </tr>\n",
        "    <tr>\n",
        "      <th>25%</th>\n",
        "      <td>  548000.000000</td>\n",
        "      <td> 1988.000000</td>\n",
        "      <td> 2110.000000</td>\n",
        "      <td>    0.000000</td>\n",
        "      <td>    0.000000</td>\n",
        "      <td>   3.000000</td>\n",
        "      <td>   2.500000</td>\n",
        "      <td>   6056.000000</td>\n",
        "      <td> 234.417344</td>\n",
        "    </tr>\n",
        "    <tr>\n",
        "      <th>50%</th>\n",
        "      <td>  660000.000000</td>\n",
        "      <td> 1993.000000</td>\n",
        "      <td> 2650.000000</td>\n",
        "      <td>    0.000000</td>\n",
        "      <td>    0.000000</td>\n",
        "      <td>   4.000000</td>\n",
        "      <td>   2.500000</td>\n",
        "      <td>   8433.000000</td>\n",
        "      <td> 254.180602</td>\n",
        "    </tr>\n",
        "    <tr>\n",
        "      <th>75%</th>\n",
        "      <td>  775000.000000</td>\n",
        "      <td> 2003.000000</td>\n",
        "      <td> 3220.000000</td>\n",
        "      <td>    0.000000</td>\n",
        "      <td>    0.000000</td>\n",
        "      <td>   4.000000</td>\n",
        "      <td>   2.750000</td>\n",
        "      <td>  13609.000000</td>\n",
        "      <td> 271.296296</td>\n",
        "    </tr>\n",
        "    <tr>\n",
        "      <th>max</th>\n",
        "      <td> 1000000.000000</td>\n",
        "      <td> 2014.000000</td>\n",
        "      <td> 5220.000000</td>\n",
        "      <td> 2270.000000</td>\n",
        "      <td> 2120.000000</td>\n",
        "      <td>   7.000000</td>\n",
        "      <td>   4.500000</td>\n",
        "      <td> 108464.000000</td>\n",
        "      <td> 762.831858</td>\n",
        "    </tr>\n",
        "  </tbody>\n",
        "</table>\n",
        "</div>"
       ],
       "metadata": {},
       "output_type": "pyout",
       "prompt_number": 737,
       "text": [
        "           Sale_Price  Built_Renovated  Living_Area  Total_Basement  \\\n",
        "count      353.000000       353.000000   353.000000      353.000000   \n",
        "mean    670605.345609      1993.524079  2679.308782      143.031161   \n",
        "std     144233.823842        11.970376   738.256579      393.344693   \n",
        "min     406430.000000      1932.000000  1010.000000        0.000000   \n",
        "25%     548000.000000      1988.000000  2110.000000        0.000000   \n",
        "50%     660000.000000      1993.000000  2650.000000        0.000000   \n",
        "75%     775000.000000      2003.000000  3220.000000        0.000000   \n",
        "max    1000000.000000      2014.000000  5220.000000     2270.000000   \n",
        "\n",
        "       Finished_Basement    Bedrooms   Bathrooms      Lot_size   \\\n",
        "count         353.000000  353.000000  353.000000     353.000000   \n",
        "mean          118.356941    3.764873    2.650850   13568.288952   \n",
        "std           340.481974    0.660330    0.528397   14468.396331   \n",
        "min             0.000000    2.000000    1.000000    1842.000000   \n",
        "25%             0.000000    3.000000    2.500000    6056.000000   \n",
        "50%             0.000000    4.000000    2.500000    8433.000000   \n",
        "75%             0.000000    4.000000    2.750000   13609.000000   \n",
        "max          2120.000000    7.000000    4.500000  108464.000000   \n",
        "\n",
        "       Per_Sqft_Price  \n",
        "count      353.000000  \n",
        "mean       257.580589  \n",
        "std         46.305457  \n",
        "min        143.318965  \n",
        "25%        234.417344  \n",
        "50%        254.180602  \n",
        "75%        271.296296  \n",
        "max        762.831858  "
       ]
      }
     ],
     "prompt_number": 737
    },
    {
     "cell_type": "markdown",
     "metadata": {},
     "source": [
      "Given the chosen catogories, it will be interesting to see global view of sales."
     ]
    },
    {
     "cell_type": "code",
     "collapsed": false,
     "input": [
      "#function to analyze categorical data (from Random_Forests == _Awesome lecture)\n",
      "def describe_categorical(X):\n",
      "    \"\"\"\n",
      "    Just like .describe(), but returns the results for\n",
      "    categorical variables only.\n",
      "    \"\"\"\n",
      "    from IPython.display import display, HTML\n",
      "    display(HTML(X[X.columns[X.dtypes == \"object\"]].describe().to_html()))"
     ],
     "language": "python",
     "metadata": {},
     "outputs": [],
     "prompt_number": 738
    },
    {
     "cell_type": "code",
     "collapsed": false,
     "input": [
      "describe_categorical(df)"
     ],
     "language": "python",
     "metadata": {},
     "outputs": [
      {
       "html": [
        "<table border=\"1\" class=\"dataframe\">\n",
        "  <thead>\n",
        "    <tr style=\"text-align: right;\">\n",
        "      <th></th>\n",
        "      <th>Listing_Month</th>\n",
        "      <th>Grade</th>\n",
        "      <th>Condition</th>\n",
        "      <th>Zoning</th>\n",
        "      <th>Sale_Rank</th>\n",
        "    </tr>\n",
        "  </thead>\n",
        "  <tbody>\n",
        "    <tr>\n",
        "      <th>count</th>\n",
        "      <td> 353</td>\n",
        "      <td>  353</td>\n",
        "      <td>     353</td>\n",
        "      <td> 353</td>\n",
        "      <td>        353</td>\n",
        "    </tr>\n",
        "    <tr>\n",
        "      <th>unique</th>\n",
        "      <td>  12</td>\n",
        "      <td>    6</td>\n",
        "      <td>       4</td>\n",
        "      <td>  11</td>\n",
        "      <td>          2</td>\n",
        "    </tr>\n",
        "    <tr>\n",
        "      <th>top</th>\n",
        "      <td> May</td>\n",
        "      <td> Good</td>\n",
        "      <td> Average</td>\n",
        "      <td>  R4</td>\n",
        "      <td> Quick_Sale</td>\n",
        "    </tr>\n",
        "    <tr>\n",
        "      <th>freq</th>\n",
        "      <td>  72</td>\n",
        "      <td>  137</td>\n",
        "      <td>     287</td>\n",
        "      <td> 147</td>\n",
        "      <td>        268</td>\n",
        "    </tr>\n",
        "  </tbody>\n",
        "</table>"
       ],
       "metadata": {},
       "output_type": "display_data",
       "text": [
        "<IPython.core.display.HTML at 0x525777b8>"
       ]
      }
     ],
     "prompt_number": 739
    },
    {
     "cell_type": "code",
     "collapsed": false,
     "input": [
      "df.Sale_Rank.value_counts().plot(kind='bar')"
     ],
     "language": "python",
     "metadata": {},
     "outputs": [
      {
       "metadata": {},
       "output_type": "pyout",
       "prompt_number": 740,
       "text": [
        "<matplotlib.axes._subplots.AxesSubplot at 0x52e40ba8>"
       ]
      },
      {
       "metadata": {},
       "output_type": "display_data",
       "png": "[encoded data removed]",
       "text": [
        "<matplotlib.figure.Figure at 0x52e409e8>"
       ]
      }
     ],
     "prompt_number": 740
    },
    {
     "cell_type": "markdown",
     "metadata": {},
     "source": [
      "The way we chose to catigorize the data reveals that the most homes are sold within 60 days in the city of Sammamish. By the end of the analysis we should be able to determine the facts that will ensure that sale is quick."
     ]
    },
    {
     "cell_type": "markdown",
     "metadata": {},
     "source": [
      "###Listing Month"
     ]
    },
    {
     "cell_type": "markdown",
     "metadata": {},
     "source": [
      "It will be interesting to see what month has the most listings. Realtors in Washington always say spring/early summer is the best time to list."
     ]
    },
    {
     "cell_type": "code",
     "collapsed": false,
     "input": [
      "df.Listing_Month.value_counts().plot(kind='bar')"
     ],
     "language": "python",
     "metadata": {},
     "outputs": [
      {
       "metadata": {},
       "output_type": "pyout",
       "prompt_number": 741,
       "text": [
        "<matplotlib.axes._subplots.AxesSubplot at 0x52bd6198>"
       ]
      },
      {
       "metadata": {},
       "output_type": "display_data",
       "png": "[encoded data removed]",
       "text": [
        "<matplotlib.figure.Figure at 0x532196d8>"
       ]
      }
     ],
     "prompt_number": 741
    },
    {
     "cell_type": "markdown",
     "metadata": {},
     "source": [
      "The data suggests that people are listening to their realors but is there really a benefit to selling within this period? It will be interesting to compare the slow sales in this period to the slow sales for the months Realtors claim are bad periods list."
     ]
    },
    {
     "cell_type": "markdown",
     "metadata": {},
     "source": [
      "First we look at the sales for the \"good\" listing period"
     ]
    },
    {
     "cell_type": "code",
     "collapsed": false,
     "input": [
      "dfs = df[(df.Listing_Month =='May') | (df.Listing_Month =='April') | (df.Listing_Month =='June') | (df.Listing_Month =='July')]"
     ],
     "language": "python",
     "metadata": {},
     "outputs": [],
     "prompt_number": 742
    },
    {
     "cell_type": "code",
     "collapsed": false,
     "input": [
      "dfs.Sale_Rank.value_counts().plot(kind='bar', title=\"'Good' Selling Months\")"
     ],
     "language": "python",
     "metadata": {},
     "outputs": [
      {
       "metadata": {},
       "output_type": "pyout",
       "prompt_number": 743,
       "text": [
        "<matplotlib.axes._subplots.AxesSubplot at 0x535b4780>"
       ]
      },
      {
       "metadata": {},
       "output_type": "display_data",
       "png": "[encoded data removed]",
       "text": [
        "<matplotlib.figure.Figure at 0x5320a320>"
       ]
      }
     ],
     "prompt_number": 743
    },
    {
     "cell_type": "markdown",
     "metadata": {},
     "source": [
      "The values seem to reflect the global trend. Now Lets look at the \"slow\" period sales."
     ]
    },
    {
     "cell_type": "code",
     "collapsed": false,
     "input": [
      "dfs = df[(df.Listing_Month =='September') | (df.Listing_Month =='October') | (df.Listing_Month =='November') | (df.Listing_Month =='December')]\n",
      "dfs.Sale_Rank.value_counts().plot(kind='bar', title=\"'Bad Selling Months\")"
     ],
     "language": "python",
     "metadata": {},
     "outputs": [
      {
       "metadata": {},
       "output_type": "pyout",
       "prompt_number": 744,
       "text": [
        "<matplotlib.axes._subplots.AxesSubplot at 0x53792358>"
       ]
      },
      {
       "metadata": {},
       "output_type": "display_data",
       "png": "[encoded data removed]",
       "text": [
        "<matplotlib.figure.Figure at 0x53603f60>"
       ]
      }
     ],
     "prompt_number": 744
    },
    {
     "cell_type": "markdown",
     "metadata": {},
     "source": [
      "The evidence shows that the \"slow\" period is not a myth and one should probably avoid trying to sell a home during the winter period. during this time despite fewer listings, homes take longer to sell."
     ]
    },
    {
     "cell_type": "markdown",
     "metadata": {},
     "source": [
      "###Age"
     ]
    },
    {
     "cell_type": "markdown",
     "metadata": {},
     "source": [
      "The age of  the house (the age since the last magor renovation) is likely to have a significant effect on how fast a house will sel"
     ]
    },
    {
     "cell_type": "code",
     "collapsed": false,
     "input": [
      "df.Built_Renovated.hist(bins=5)"
     ],
     "language": "python",
     "metadata": {},
     "outputs": [
      {
       "metadata": {},
       "output_type": "pyout",
       "prompt_number": 745,
       "text": [
        "<matplotlib.axes._subplots.AxesSubplot at 0x53a1bb70>"
       ]
      },
      {
       "metadata": {},
       "output_type": "display_data",
       "png": "[encoded data removed]",
       "text": [
        "<matplotlib.figure.Figure at 0x53618240>"
       ]
      }
     ],
     "prompt_number": 745
    },
    {
     "cell_type": "markdown",
     "metadata": {},
     "source": [
      "Most of the houses in the data set were built in the 90s closely followed by the 2000s. Using these decade bins the chart below show how this affected sales."
     ]
    },
    {
     "cell_type": "code",
     "collapsed": false,
     "input": [
      "df2010s = df[(df.Built_Renovated >= 2010)]\n",
      "df2005s = df[(df.Built_Renovated >= 2005) & (df.Built_Renovated < 2010)]\n",
      "df2000s = df[(df.Built_Renovated >= 2000) & (df.Built_Renovated < 2005)]\n",
      "df90s = df[(df.Built_Renovated >= 1990) & (df.Built_Renovated < 2000)]\n",
      "df80s = df[(df.Built_Renovated >= 1980) & (df.Built_Renovated < 1990)]\n",
      "df70sBelow = df[(df.Built_Renovated < 1980)]\n",
      "\n",
      "\n",
      "fig, axs = plt.subplots(1,2)\n",
      "df2005s.Sale_Rank.value_counts().plot(kind='bar',ax=axs[0], title= \"2005 to 2010\")\n",
      "df2010s.Sale_Rank.value_counts().plot(kind='bar',ax=axs[1], title= \"2010 and above\")\n"
     ],
     "language": "python",
     "metadata": {},
     "outputs": [
      {
       "metadata": {},
       "output_type": "pyout",
       "prompt_number": 746,
       "text": [
        "<matplotlib.axes._subplots.AxesSubplot at 0x53ec1160>"
       ]
      },
      {
       "metadata": {},
       "output_type": "display_data",
       "png": "[encoded data removed]",
       "text": [
        "<matplotlib.figure.Figure at 0x4d366470>"
       ]
      }
     ],
     "prompt_number": 746
    },
    {
     "cell_type": "code",
     "collapsed": false,
     "input": [
      "fig, axs = plt.subplots(1,2)\n",
      "df2000s.Sale_Rank.value_counts().plot(kind='bar',ax=axs[0], title= \"2000 to 2005\")\n",
      "df90s.Sale_Rank.value_counts().plot(kind='bar',ax=axs[1], title= \"1990s\")\n"
     ],
     "language": "python",
     "metadata": {},
     "outputs": [
      {
       "metadata": {},
       "output_type": "pyout",
       "prompt_number": 747,
       "text": [
        "<matplotlib.axes._subplots.AxesSubplot at 0x54134a20>"
       ]
      },
      {
       "metadata": {},
       "output_type": "display_data",
       "png": "[encoded data removed]",
       "text": [
        "<matplotlib.figure.Figure at 0x53624710>"
       ]
      }
     ],
     "prompt_number": 747
    },
    {
     "cell_type": "code",
     "collapsed": false,
     "input": [
      "fig, axs = plt.subplots(1,2)\n",
      "df80s.Sale_Rank.value_counts().plot(kind='bar',ax=axs[0], title= \"80s\")\n",
      "df70sBelow.Sale_Rank.value_counts().plot(kind='bar',ax=axs[1], title= \"70s and below\")\n",
      "\n",
      "\n",
      "\n"
     ],
     "language": "python",
     "metadata": {},
     "outputs": [
      {
       "metadata": {},
       "output_type": "pyout",
       "prompt_number": 748,
       "text": [
        "<matplotlib.axes._subplots.AxesSubplot at 0x54582240>"
       ]
      },
      {
       "metadata": {},
       "output_type": "display_data",
       "png": "[encoded data removed]",
       "text": [
        "<matplotlib.figure.Figure at 0x542c3dd8>"
       ]
      }
     ],
     "prompt_number": 748
    },
    {
     "cell_type": "code",
     "collapsed": false,
     "input": [
      "fig, axs = plt.subplots(2,3)\n",
      "\n",
      "df2005s.Sale_Rank.value_counts().plot(kind='pie',ax=axs[0,0], title= \"2005 to 2010\")\n",
      "df2010s.Sale_Rank.value_counts().plot(kind='pie',ax=axs[1, 0], title= \"2010 and above\")\n",
      "\n",
      "df2000s.Sale_Rank.value_counts().plot(kind='pie',ax=axs[0, 1], title= \"2000 to 2005\")\n",
      "df90s.Sale_Rank.value_counts().plot(kind='pie',ax=axs[1, 1], title= \"1990s\")\n",
      "\n",
      "df80s.Sale_Rank.value_counts().plot(kind='pie',ax=axs[0,2], title= \"80s\")\n",
      "df70sBelow.Sale_Rank.value_counts().plot(kind='pie',ax=axs[1,2], title= \"70s and below\")"
     ],
     "language": "python",
     "metadata": {},
     "outputs": [
      {
       "metadata": {},
       "output_type": "pyout",
       "prompt_number": 749,
       "text": [
        "<matplotlib.axes._subplots.AxesSubplot at 0x546e5f98>"
       ]
      },
      {
       "metadata": {},
       "output_type": "display_data",
       "png": "[encoded data removed]",
       "text": [
        "<matplotlib.figure.Figure at 0x54770128>"
       ]
      }
     ],
     "prompt_number": 749
    },
    {
     "cell_type": "markdown",
     "metadata": {},
     "source": [
      "Given the charts above, there really is no evidence to suggest that the age of a house will have a definitive impact on how quickly a house will sell. One interesting fact is that the newest homes seems to take longer to sell. This is likely due to practice in new contruction where homes are listed long before they are built.\n",
      "\n"
     ]
    },
    {
     "cell_type": "markdown",
     "metadata": {},
     "source": [
      "###Living Area"
     ]
    },
    {
     "cell_type": "code",
     "collapsed": false,
     "input": [
      "df.Living_Area.hist(bins=5)"
     ],
     "language": "python",
     "metadata": {},
     "outputs": [
      {
       "metadata": {},
       "output_type": "pyout",
       "prompt_number": 750,
       "text": [
        "<matplotlib.axes._subplots.AxesSubplot at 0x53c1e400>"
       ]
      },
      {
       "metadata": {},
       "output_type": "display_data",
       "png": "[encoded data removed]",
       "text": [
        "<matplotlib.figure.Figure at 0x5429b128>"
       ]
      }
     ],
     "prompt_number": 750
    },
    {
     "cell_type": "code",
     "collapsed": false,
     "input": [],
     "language": "python",
     "metadata": {},
     "outputs": [],
     "prompt_number": 750
    },
    {
     "cell_type": "markdown",
     "metadata": {},
     "source": [
      "###Price"
     ]
    },
    {
     "cell_type": "markdown",
     "metadata": {},
     "source": [
      "The price of the house is very likely to be a big determining factor for the simple fact that fewer people are likely to be in the market for expensive homes. As a result expensive homes will likely be on the market for long than relatively affordable homes."
     ]
    },
    {
     "cell_type": "code",
     "collapsed": false,
     "input": [
      "df.Sale_Price.hist(bins=5)"
     ],
     "language": "python",
     "metadata": {},
     "outputs": [
      {
       "metadata": {},
       "output_type": "pyout",
       "prompt_number": 751,
       "text": [
        "<matplotlib.axes._subplots.AxesSubplot at 0x54d6d160>"
       ]
      },
      {
       "metadata": {},
       "output_type": "display_data",
       "png": "[encoded data removed]",
       "text": [
        "<matplotlib.figure.Figure at 0x54fa00f0>"
       ]
      }
     ],
     "prompt_number": 751
    },
    {
     "cell_type": "code",
     "collapsed": false,
     "input": [
      "df9 = df[(df.Sale_Price >= 900000)]\n",
      "df8 = df[(df.Sale_Price >= 800000) & (df.Sale_Price < 900000)]\n",
      "df7 = df[(df.Sale_Price >= 700000) & (df.Sale_Price < 800000)]\n",
      "df6 = df[(df.Sale_Price >= 500000) & (df.Sale_Price < 700000)]\n",
      "df4 = df[(df.Sale_Price >= 400000) & (df.Sale_Price < 500000)]\n",
      "\n",
      "fig, axs = plt.subplots(1,2)\n",
      "df9.Sale_Rank.value_counts().plot(kind='pie',ax=axs[0], title='>= 900k')\n",
      "df8.Sale_Rank.value_counts().plot(kind='pie',ax=axs[1], title='800k to 900k')\n",
      "\n",
      "\n"
     ],
     "language": "python",
     "metadata": {},
     "outputs": [
      {
       "metadata": {},
       "output_type": "pyout",
       "prompt_number": 752,
       "text": [
        "<matplotlib.axes._subplots.AxesSubplot at 0x55214978>"
       ]
      },
      {
       "metadata": {},
       "output_type": "display_data",
       "png": "[encoded data removed]",
       "text": [
        "<matplotlib.figure.Figure at 0x48220588>"
       ]
      }
     ],
     "prompt_number": 752
    },
    {
     "cell_type": "code",
     "collapsed": false,
     "input": [
      "fig, axs = plt.subplots(1,3)\n",
      "df7.Sale_Rank.value_counts().plot(kind='pie',ax=axs[0], title='700k to 800k')\n",
      "df6.Sale_Rank.value_counts().plot(kind='pie',ax=axs[1], title='500k to 700k')\n",
      "df4.Sale_Rank.value_counts().plot(kind='pie',ax=axs[2], title='< 500k')\n"
     ],
     "language": "python",
     "metadata": {},
     "outputs": [
      {
       "metadata": {},
       "output_type": "pyout",
       "prompt_number": 753,
       "text": [
        "<matplotlib.axes._subplots.AxesSubplot at 0x558ac4e0>"
       ]
      },
      {
       "metadata": {},
       "output_type": "display_data",
       "png": "[encoded data removed]",
       "text": [
        "<matplotlib.figure.Figure at 0x54fb4b70>"
       ]
      }
     ],
     "prompt_number": 753
    },
    {
     "cell_type": "markdown",
     "metadata": {},
     "source": [
      "###Price per Square foot."
     ]
    },
    {
     "cell_type": "markdown",
     "metadata": {},
     "source": [
      "Price per square is another attribute realtors often talk about. However, it isn't clear that buyers actually pay attention to this. It will be interesting to see if our data supports the importance of this attribute."
     ]
    },
    {
     "cell_type": "code",
     "collapsed": false,
     "input": [
      "df.Per_Sqft_Price.hist(bins=5)"
     ],
     "language": "python",
     "metadata": {},
     "outputs": [
      {
       "metadata": {},
       "output_type": "pyout",
       "prompt_number": 754,
       "text": [
        "<matplotlib.axes._subplots.AxesSubplot at 0x54eedda0>"
       ]
      },
      {
       "metadata": {},
       "output_type": "display_data",
       "png": "[encoded data removed]",
       "text": [
        "<matplotlib.figure.Figure at 0x55080198>"
       ]
      }
     ],
     "prompt_number": 754
    },
    {
     "cell_type": "code",
     "collapsed": false,
     "input": [
      "fig, axs = plt.subplots(1,2)\n",
      "df[(df.Per_Sqft_Price >= 200) & (df.Per_Sqft_Price < 300)].Sale_Rank.value_counts().plot(kind='bar',ax=axs[0], title='$200 to $300/sqft')\n",
      "df[(df.Per_Sqft_Price >= 300)].Sale_Rank.value_counts().plot(kind='bar',ax=axs[1], title='$300+/sqft')"
     ],
     "language": "python",
     "metadata": {},
     "outputs": [
      {
       "metadata": {},
       "output_type": "pyout",
       "prompt_number": 755,
       "text": [
        "<matplotlib.axes._subplots.AxesSubplot at 0x55dc7a90>"
       ]
      },
      {
       "metadata": {},
       "output_type": "display_data",
       "png": "[encoded data removed]",
       "text": [
        "<matplotlib.figure.Figure at 0x55a1eef0>"
       ]
      }
     ],
     "prompt_number": 755
    },
    {
     "cell_type": "code",
     "collapsed": false,
     "input": [
      "fig, axs = plt.subplots(1,2)\n",
      "df[(df.Per_Sqft_Price >= 200) & (df.Per_Sqft_Price < 240)].Sale_Rank.value_counts().plot(kind='bar',ax=axs[0], title='$200 to $240/sqft')\n",
      "df[(df.Per_Sqft_Price >= 240) & (df.Per_Sqft_Price < 280)].Sale_Rank.value_counts().plot(kind='bar',ax=axs[1], title='$240 to 280/sqft')\n",
      "\n"
     ],
     "language": "python",
     "metadata": {},
     "outputs": [
      {
       "metadata": {},
       "output_type": "pyout",
       "prompt_number": 756,
       "text": [
        "<matplotlib.axes._subplots.AxesSubplot at 0x55f15a90>"
       ]
      },
      {
       "metadata": {},
       "output_type": "display_data",
       "png": "[encoded data removed]",
       "text": [
        "<matplotlib.figure.Figure at 0x55e4d710>"
       ]
      }
     ],
     "prompt_number": 756
    },
    {
     "cell_type": "code",
     "collapsed": false,
     "input": [
      "fig, axs = plt.subplots(1,2)\n",
      "df[(df.Per_Sqft_Price >= 280) & (df.Per_Sqft_Price < 320)].Sale_Rank.value_counts().plot(kind='bar',ax=axs[0], title='$280 to 320/sqft')\n",
      "df[(df.Per_Sqft_Price >= 320)].Sale_Rank.value_counts().plot(kind='bar',ax=axs[1], title='$320+/sqft')\n",
      "\n"
     ],
     "language": "python",
     "metadata": {},
     "outputs": [
      {
       "metadata": {},
       "output_type": "pyout",
       "prompt_number": 757,
       "text": [
        "<matplotlib.axes._subplots.AxesSubplot at 0x561ad1d0>"
       ]
      },
      {
       "metadata": {},
       "output_type": "display_data",
       "png": "[encoded data removed]",
       "text": [
        "<matplotlib.figure.Figure at 0x56181470>"
       ]
      }
     ],
     "prompt_number": 757
    },
    {
     "cell_type": "markdown",
     "metadata": {},
     "source": [
      "###Grade"
     ]
    },
    {
     "cell_type": "markdown",
     "metadata": {},
     "source": [
      "The meaning of the \"Grade\" attribute (and particularly how it was determined) wasn't completely obvious so some anaylysis of the data done to see what the dorminant categories were and vice-versa."
     ]
    },
    {
     "cell_type": "code",
     "collapsed": false,
     "input": [
      "df.Grade.value_counts().plot(kind='pie')"
     ],
     "language": "python",
     "metadata": {},
     "outputs": [
      {
       "metadata": {},
       "output_type": "pyout",
       "prompt_number": 758,
       "text": [
        "<matplotlib.axes._subplots.AxesSubplot at 0x55a2bf60>"
       ]
      },
      {
       "metadata": {},
       "output_type": "display_data",
       "png": "[encoded data removed]",
       "text": [
        "<matplotlib.figure.Figure at 0x55a36860>"
       ]
      }
     ],
     "prompt_number": 758
    },
    {
     "cell_type": "markdown",
     "metadata": {},
     "source": [
      "Lets see if this has any effects on quick sales"
     ]
    },
    {
     "cell_type": "code",
     "collapsed": false,
     "input": [
      "dfb =df[(df.Sale_Rank =='Quick_Sale')]\n",
      "dfb.Grade.value_counts().plot(kind='bar', title= 'Quick Sales by Grade')\n"
     ],
     "language": "python",
     "metadata": {},
     "outputs": [
      {
       "metadata": {},
       "output_type": "pyout",
       "prompt_number": 759,
       "text": [
        "<matplotlib.axes._subplots.AxesSubplot at 0x564134a8>"
       ]
      },
      {
       "metadata": {},
       "output_type": "display_data",
       "png": "[encoded data removed]",
       "text": [
        "<matplotlib.figure.Figure at 0x565ab588>"
       ]
      }
     ],
     "prompt_number": 759
    },
    {
     "cell_type": "markdown",
     "metadata": {},
     "source": [
      "Given the difference of the 2 categories of sales in the population its best to observe the slow sales category to get the full picture."
     ]
    },
    {
     "cell_type": "code",
     "collapsed": false,
     "input": [
      "dfb =df[(df.Sale_Rank =='Slow_Sale')]\n",
      "dfb.Grade.value_counts().plot(kind='bar', title= 'Slow Sales by Grade')"
     ],
     "language": "python",
     "metadata": {},
     "outputs": [
      {
       "metadata": {},
       "output_type": "pyout",
       "prompt_number": 760,
       "text": [
        "<matplotlib.axes._subplots.AxesSubplot at 0x5672c780>"
       ]
      },
      {
       "metadata": {},
       "output_type": "display_data",
       "png": "[encoded data removed]",
       "text": [
        "<matplotlib.figure.Figure at 0x56393ac8>"
       ]
      }
     ],
     "prompt_number": 760
    },
    {
     "cell_type": "markdown",
     "metadata": {},
     "source": [
      "One can't really draw any instereing conclusion about the attribute given the condition that has the largest share (very good) didn't account for the highest quick sales. The small population size may be having an bad effect on the analysis here."
     ]
    },
    {
     "cell_type": "markdown",
     "metadata": {},
     "source": [
      "###Condition"
     ]
    },
    {
     "cell_type": "code",
     "collapsed": false,
     "input": [
      "df.Condition.value_counts().plot(kind='bar', title= 'Condition Distribution')"
     ],
     "language": "python",
     "metadata": {},
     "outputs": [
      {
       "metadata": {},
       "output_type": "pyout",
       "prompt_number": 761,
       "text": [
        "<matplotlib.axes._subplots.AxesSubplot at 0x56a83240>"
       ]
      },
      {
       "metadata": {},
       "output_type": "display_data",
       "png": "[encoded data removed]",
       "text": [
        "<matplotlib.figure.Figure at 0x56b85ac8>"
       ]
      }
     ],
     "prompt_number": 761
    },
    {
     "cell_type": "code",
     "collapsed": false,
     "input": [
      "dfb =df[(df.Sale_Rank =='Quick_Sale')]\n",
      "dfb.Condition.value_counts().plot(kind='bar', title= 'Quick Sales by Condition')"
     ],
     "language": "python",
     "metadata": {},
     "outputs": [
      {
       "metadata": {},
       "output_type": "pyout",
       "prompt_number": 762,
       "text": [
        "<matplotlib.axes._subplots.AxesSubplot at 0x56c5d908>"
       ]
      },
      {
       "metadata": {},
       "output_type": "display_data",
       "png": "[encoded data removed]",
       "text": [
        "<matplotlib.figure.Figure at 0x56c79550>"
       ]
      }
     ],
     "prompt_number": 762
    },
    {
     "cell_type": "code",
     "collapsed": false,
     "input": [
      "dfb =df[(df.Sale_Rank =='Slow_Sale')]\n",
      "dfb.Condition.value_counts().plot(kind='bar', title= 'Slow Sales by Condition')"
     ],
     "language": "python",
     "metadata": {},
     "outputs": [
      {
       "metadata": {},
       "output_type": "pyout",
       "prompt_number": 763,
       "text": [
        "<matplotlib.axes._subplots.AxesSubplot at 0x56e9aa58>"
       ]
      },
      {
       "metadata": {},
       "output_type": "display_data",
       "png": "[encoded data removed]",
       "text": [
        "<matplotlib.figure.Figure at 0x56ea4940>"
       ]
      }
     ],
     "prompt_number": 763
    },
    {
     "cell_type": "markdown",
     "metadata": {},
     "source": [
      "###Zoning\n",
      "\n",
      "The Zoning atrribute is a little mysterious given the odd values. Some statistical anaylsis below may gives somes clues about its relevance."
     ]
    },
    {
     "cell_type": "code",
     "collapsed": false,
     "input": [
      "df.Zoning.value_counts().plot(kind='bar', title=\"Zone Distribution\")"
     ],
     "language": "python",
     "metadata": {},
     "outputs": [
      {
       "metadata": {},
       "output_type": "pyout",
       "prompt_number": 764,
       "text": [
        "<matplotlib.axes._subplots.AxesSubplot at 0x571f3978>"
       ]
      },
      {
       "metadata": {},
       "output_type": "display_data",
       "png": "[encoded data removed]",
       "text": [
        "<matplotlib.figure.Figure at 0x571fe860>"
       ]
      }
     ],
     "prompt_number": 764
    },
    {
     "cell_type": "markdown",
     "metadata": {},
     "source": [
      "R4 is the zone with the highest number and everything after R1 is practically irrelevant. Let's see how the zoning affects sales if at all:"
     ]
    },
    {
     "cell_type": "code",
     "collapsed": false,
     "input": [
      "dfb =df[(df.Sale_Rank =='Quick_Sale')]"
     ],
     "language": "python",
     "metadata": {},
     "outputs": [],
     "prompt_number": 765
    },
    {
     "cell_type": "code",
     "collapsed": false,
     "input": [
      "dfb.Zoning.value_counts().plot(kind='bar', title= \"Quick Sales by Zone\")"
     ],
     "language": "python",
     "metadata": {},
     "outputs": [
      {
       "metadata": {},
       "output_type": "pyout",
       "prompt_number": 766,
       "text": [
        "<matplotlib.axes._subplots.AxesSubplot at 0x56ea4a20>"
       ]
      },
      {
       "metadata": {},
       "output_type": "display_data",
       "png": "[encoded data removed]",
       "text": [
        "<matplotlib.figure.Figure at 0x5745bbe0>"
       ]
      }
     ],
     "prompt_number": 766
    },
    {
     "cell_type": "markdown",
     "metadata": {},
     "source": [
      "The even spread seems to indicate that that zoning has little effect on the sale time. It might be interesting to look at the slow sales too."
     ]
    },
    {
     "cell_type": "code",
     "collapsed": false,
     "input": [
      "dfb =df[(df.Sale_Rank =='Slow_Sale') | (df.Sale_Rank =='Very_Slow_Sale')]"
     ],
     "language": "python",
     "metadata": {},
     "outputs": [],
     "prompt_number": 767
    },
    {
     "cell_type": "code",
     "collapsed": false,
     "input": [
      "dfb.Zoning.value_counts().plot(kind='bar', title= \"Slow Sales by Zone\")"
     ],
     "language": "python",
     "metadata": {},
     "outputs": [
      {
       "metadata": {},
       "output_type": "pyout",
       "prompt_number": 768,
       "text": [
        "<matplotlib.axes._subplots.AxesSubplot at 0x57712710>"
       ]
      },
      {
       "metadata": {},
       "output_type": "display_data",
       "png": "[encoded data removed]",
       "text": [
        "<matplotlib.figure.Figure at 0x5771d400>"
       ]
      }
     ],
     "prompt_number": 768
    },
    {
     "cell_type": "markdown",
     "metadata": {},
     "source": [
      "Given these charts, its safe to conclude that the zoning has little effect on the sale time so it will be drop from the classfier."
     ]
    },
    {
     "cell_type": "markdown",
     "metadata": {},
     "source": [
      "###No. of Baths\n",
      "It isn't expected that the number of bath will play much of a role. However, the analysis is done to see what trends can be found.\n"
     ]
    },
    {
     "cell_type": "code",
     "collapsed": false,
     "input": [
      "df.Bathrooms.value_counts().plot(kind='bar', title=\"No. Baths Distribution\")"
     ],
     "language": "python",
     "metadata": {},
     "outputs": [
      {
       "metadata": {},
       "output_type": "pyout",
       "prompt_number": 769,
       "text": [
        "<matplotlib.axes._subplots.AxesSubplot at 0x579ed940>"
       ]
      },
      {
       "metadata": {},
       "output_type": "display_data",
       "png": "[encoded data removed]",
       "text": [
        "<matplotlib.figure.Figure at 0x57a21550>"
       ]
      }
     ],
     "prompt_number": 769
    },
    {
     "cell_type": "markdown",
     "metadata": {},
     "source": [
      "###Bedrooms\n",
      "It will be interesing to see how bedroom and bath combinnations do. First let's see how the total numbers look like"
     ]
    },
    {
     "cell_type": "code",
     "collapsed": false,
     "input": [
      "df.Bedrooms.value_counts().plot(kind='bar', title='No. Bedrooms Distribution')"
     ],
     "language": "python",
     "metadata": {},
     "outputs": [
      {
       "metadata": {},
       "output_type": "pyout",
       "prompt_number": 770,
       "text": [
        "<matplotlib.axes._subplots.AxesSubplot at 0x57c2a6a0>"
       ]
      },
      {
       "metadata": {},
       "output_type": "display_data",
       "png": "[encoded data removed]",
       "text": [
        "<matplotlib.figure.Figure at 0x57c425f8>"
       ]
      }
     ],
     "prompt_number": 770
    },
    {
     "cell_type": "markdown",
     "metadata": {},
     "source": [
      "Since 4 bedroom and 3 bedroom homes take up the lion share of homes in the population it will be interesting to see the bathroom combinations that do well. First, the quick/slow sale charts are examined"
     ]
    },
    {
     "cell_type": "code",
     "collapsed": false,
     "input": [
      "dfbb = df[(df.Sale_Rank =='Quick_Sale')]\n",
      "dfb.Bedrooms.value_counts().plot(kind='bar', title='Quick Sales by Bedroom')"
     ],
     "language": "python",
     "metadata": {},
     "outputs": [
      {
       "metadata": {},
       "output_type": "pyout",
       "prompt_number": 771,
       "text": [
        "<matplotlib.axes._subplots.AxesSubplot at 0x57d0bf98>"
       ]
      },
      {
       "metadata": {},
       "output_type": "display_data",
       "png": "[encoded data removed]",
       "text": [
        "<matplotlib.figure.Figure at 0x57dfb668>"
       ]
      }
     ],
     "prompt_number": 771
    },
    {
     "cell_type": "code",
     "collapsed": false,
     "input": [
      "dfbb = df[(df.Sale_Rank =='Slow_Sale')]\n",
      "dfb.Bedrooms.value_counts().plot(kind='bar', title='Slow Sales by Bedroom')"
     ],
     "language": "python",
     "metadata": {},
     "outputs": [
      {
       "metadata": {},
       "output_type": "pyout",
       "prompt_number": 772,
       "text": [
        "<matplotlib.axes._subplots.AxesSubplot at 0x57f962e8>"
       ]
      },
      {
       "metadata": {},
       "output_type": "display_data",
       "png": "[encoded data removed]",
       "text": [
        "<matplotlib.figure.Figure at 0x57e07198>"
       ]
      }
     ],
     "prompt_number": 772
    },
    {
     "cell_type": "markdown",
     "metadata": {},
     "source": [
      "There appears to be an even spread in both categories so the number of bath rooms don't seem to playmuch of a role in how fast a house will sell. Now we consider some 3/4 bedroom bathroom combinations"
     ]
    },
    {
     "cell_type": "code",
     "collapsed": false,
     "input": [
      "\n",
      "fig, axs = plt.subplots(1,2)\n",
      "df[(df.Bedrooms ==3) & (df.Bathrooms ==2.5)].Sale_Rank.value_counts().plot(kind='bar',ax=axs[0], title='3 bed/2.5 bath')\n",
      "df[(df.Bedrooms ==4) & (df.Bathrooms ==2.5)].Sale_Rank.value_counts().plot(kind='bar',ax=axs[1], title='4 bed/2.5 bath')\n"
     ],
     "language": "python",
     "metadata": {},
     "outputs": [
      {
       "metadata": {},
       "output_type": "pyout",
       "prompt_number": 773,
       "text": [
        "<matplotlib.axes._subplots.AxesSubplot at 0x584dc1d0>"
       ]
      },
      {
       "metadata": {},
       "output_type": "display_data",
       "png": "[encoded data removed]",
       "text": [
        "<matplotlib.figure.Figure at 0x58192f60>"
       ]
      }
     ],
     "prompt_number": 773
    },
    {
     "cell_type": "code",
     "collapsed": false,
     "input": [
      "fig, axs = plt.subplots(1,2)\n",
      "df[(df.Bedrooms ==3) & (df.Bathrooms ==2.75)].Sale_Rank.value_counts().plot(kind='bar',ax=axs[0], title='3 bed/2.75 bath')\n",
      "df[(df.Bedrooms ==4) & (df.Bathrooms ==2.75)].Sale_Rank.value_counts().plot(kind='bar',ax=axs[1], title='4 bed/2.75 bath')"
     ],
     "language": "python",
     "metadata": {},
     "outputs": [
      {
       "metadata": {},
       "output_type": "pyout",
       "prompt_number": 774,
       "text": [
        "<matplotlib.axes._subplots.AxesSubplot at 0x587ce908>"
       ]
      },
      {
       "metadata": {},
       "output_type": "display_data",
       "png": "[encoded data removed]",
       "text": [
        "<matplotlib.figure.Figure at 0x585e3f60>"
       ]
      }
     ],
     "prompt_number": 774
    },
    {
     "cell_type": "markdown",
     "metadata": {},
     "source": [
      "Looking at this data in isolation, it would appears that a 3 bed/2.5 bath house is likely to sell faster than the other combinations"
     ]
    },
    {
     "cell_type": "markdown",
     "metadata": {},
     "source": [
      "###Basement\n",
      "\n",
      "Basements are not very common in the state of Wasington so it will be interesting to see if the homes with basements attract fast sales."
     ]
    },
    {
     "cell_type": "code",
     "collapsed": false,
     "input": [
      "dfa = df[(df.Total_Basement > 0)]\n",
      "dfs = df[df.Finished_Basement == 0]\n",
      "dfa.Grade.count()"
     ],
     "language": "python",
     "metadata": {},
     "outputs": [
      {
       "metadata": {},
       "output_type": "pyout",
       "prompt_number": 775,
       "text": [
        "46"
       ]
      }
     ],
     "prompt_number": 775
    },
    {
     "cell_type": "code",
     "collapsed": false,
     "input": [
      "dfa.Sale_Rank.value_counts().plot(kind='pie', title='Homes with Basements')"
     ],
     "language": "python",
     "metadata": {},
     "outputs": [
      {
       "metadata": {},
       "output_type": "pyout",
       "prompt_number": 776,
       "text": [
        "<matplotlib.axes._subplots.AxesSubplot at 0x585d2e80>"
       ]
      },
      {
       "metadata": {},
       "output_type": "display_data",
       "png": "[encoded data removed]",
       "text": [
        "<matplotlib.figure.Figure at 0x581ad128>"
       ]
      }
     ],
     "prompt_number": 776
    },
    {
     "cell_type": "markdown",
     "metadata": {},
     "source": [
      "Of the 46 homes with basements, there appears to be an even split between quick and slow sales so its safe to conclude that buyers aren't very interested in the presence of a basement."
     ]
    },
    {
     "cell_type": "markdown",
     "metadata": {},
     "source": [
      "#Random Forest Classification"
     ]
    },
    {
     "cell_type": "markdown",
     "metadata": {},
     "source": [
      "Set the independent variables. These will be fine tuned before running the classifier"
     ]
    },
    {
     "cell_type": "code",
     "collapsed": false,
     "input": [
      "X = df"
     ],
     "language": "python",
     "metadata": {},
     "outputs": [],
     "prompt_number": 777
    },
    {
     "cell_type": "markdown",
     "metadata": {},
     "source": [
      "###First Model\n",
      "For the first model we will use all the reamining attributes. Once the resilts have been obtained, the most important attributes will be used in a second model to with the hope of gain imrovements."
     ]
    },
    {
     "cell_type": "markdown",
     "metadata": {},
     "source": [
      "Convert all the string values to numeric values"
     ]
    },
    {
     "cell_type": "code",
     "collapsed": false,
     "input": [
      "X.Listing_Month.value_counts()"
     ],
     "language": "python",
     "metadata": {},
     "outputs": [
      {
       "metadata": {},
       "output_type": "pyout",
       "prompt_number": 778,
       "text": [
        "May          72\n",
        "April        50\n",
        "July         48\n",
        "June         47\n",
        "March        40\n",
        "Febuary      30\n",
        "August       30\n",
        "January      13\n",
        "September    11\n",
        "October       6\n",
        "December      5\n",
        "November      1\n",
        "dtype: int64"
       ]
      }
     ],
     "prompt_number": 778
    },
    {
     "cell_type": "code",
     "collapsed": false,
     "input": [
      "def Clean_Month(x):\n",
      "    return {\n",
      "    'January': 1,\n",
      "    'Febuary': 2,\n",
      "    'March': 3,\n",
      "    'April': 4,\n",
      "    'May': 5,\n",
      "    'June': 6,\n",
      "    'July': 7,\n",
      "    'August': 8,\n",
      "    'September': 9,\n",
      "    'October': 10,\n",
      "    'November': 11,\n",
      "    'December': 12,\n",
      "}.get(x, 13)"
     ],
     "language": "python",
     "metadata": {},
     "outputs": [],
     "prompt_number": 779
    },
    {
     "cell_type": "code",
     "collapsed": false,
     "input": [
      "X.Condition.value_counts()"
     ],
     "language": "python",
     "metadata": {},
     "outputs": [
      {
       "metadata": {},
       "output_type": "pyout",
       "prompt_number": 780,
       "text": [
        "Average      287\n",
        "Good          54\n",
        "Very Good     11\n",
        "Fair           1\n",
        "dtype: int64"
       ]
      }
     ],
     "prompt_number": 780
    },
    {
     "cell_type": "code",
     "collapsed": false,
     "input": [
      "def Clean_Condition(x):\n",
      "    return {\n",
      "    'Average': 1,\n",
      "    'Good': 2,\n",
      "    'Very Good': 3,\n",
      "}.get(x, 4)"
     ],
     "language": "python",
     "metadata": {},
     "outputs": [],
     "prompt_number": 781
    },
    {
     "cell_type": "code",
     "collapsed": false,
     "input": [
      "X.Grade.value_counts()"
     ],
     "language": "python",
     "metadata": {},
     "outputs": [
      {
       "metadata": {},
       "output_type": "pyout",
       "prompt_number": 782,
       "text": [
        "Good           137\n",
        "Very Good       87\n",
        "Better          85\n",
        "Average         35\n",
        "Excellent        7\n",
        "Low Average      2\n",
        "dtype: int64"
       ]
      }
     ],
     "prompt_number": 782
    },
    {
     "cell_type": "code",
     "collapsed": false,
     "input": [
      "def Clean_Grade(x):\n",
      "    return {\n",
      "    'Low Average': 0,\n",
      "    'Average': 1,\n",
      "    'Good': 2,\n",
      "    'Better': 3,\n",
      "    'Very Good': 4,\n",
      "    'Excellent': 5,\n",
      "}.get(x, 7)"
     ],
     "language": "python",
     "metadata": {},
     "outputs": [],
     "prompt_number": 783
    },
    {
     "cell_type": "code",
     "collapsed": false,
     "input": [
      "def Clean_Sale_Rank(x):\n",
      "     return {\n",
      "     'Quick_Sale': 1,\n",
      "     'Slow_Sale': 0,\n",
      "}.get(x, 0)"
     ],
     "language": "python",
     "metadata": {},
     "outputs": [],
     "prompt_number": 784
    },
    {
     "cell_type": "code",
     "collapsed": false,
     "input": [
      "X[\"Condition\"] = X.Condition.apply(Clean_Condition)\n",
      "X[\"Listing_Month\"] = X.Listing_Month.apply(Clean_Month)\n",
      "X[\"Grade\"] = X.Grade.apply(Clean_Grade)\n",
      "X[\"Sale_Rank\"] = X.Sale_Rank.apply(Clean_Sale_Rank)\n",
      "\n"
     ],
     "language": "python",
     "metadata": {},
     "outputs": [],
     "prompt_number": 785
    },
    {
     "cell_type": "code",
     "collapsed": false,
     "input": [
      "y = X['Sale_Rank']\n",
      "X = X.drop(['Sale_Rank'], axis=1)\n",
      "X = X.drop(['Zoning'], axis=1)\n"
     ],
     "language": "python",
     "metadata": {},
     "outputs": [],
     "prompt_number": 786
    },
    {
     "cell_type": "code",
     "collapsed": false,
     "input": [
      "X.head()"
     ],
     "language": "python",
     "metadata": {},
     "outputs": [
      {
       "html": [
        "<div style=\"max-height:1000px;max-width:1500px;overflow:auto;\">\n",
        "<table border=\"1\" class=\"dataframe\">\n",
        "  <thead>\n",
        "    <tr style=\"text-align: right;\">\n",
        "      <th></th>\n",
        "      <th>Listing_Month</th>\n",
        "      <th>Sale_Price</th>\n",
        "      <th>Built_Renovated</th>\n",
        "      <th>Grade</th>\n",
        "      <th>Condition</th>\n",
        "      <th>Living_Area</th>\n",
        "      <th>Total_Basement</th>\n",
        "      <th>Finished_Basement</th>\n",
        "      <th>Bedrooms</th>\n",
        "      <th>Bathrooms</th>\n",
        "      <th>Lot_size </th>\n",
        "      <th>Per_Sqft_Price</th>\n",
        "    </tr>\n",
        "  </thead>\n",
        "  <tbody>\n",
        "    <tr>\n",
        "      <th>0</th>\n",
        "      <td> 4</td>\n",
        "      <td> 785000</td>\n",
        "      <td> 2011</td>\n",
        "      <td> 3</td>\n",
        "      <td> 1</td>\n",
        "      <td> 3010</td>\n",
        "      <td> 0</td>\n",
        "      <td> 0</td>\n",
        "      <td> 3</td>\n",
        "      <td> 2.75</td>\n",
        "      <td> 1842</td>\n",
        "      <td> 260.797342</td>\n",
        "    </tr>\n",
        "    <tr>\n",
        "      <th>1</th>\n",
        "      <td> 3</td>\n",
        "      <td> 550000</td>\n",
        "      <td> 2001</td>\n",
        "      <td> 2</td>\n",
        "      <td> 1</td>\n",
        "      <td> 2170</td>\n",
        "      <td> 0</td>\n",
        "      <td> 0</td>\n",
        "      <td> 3</td>\n",
        "      <td> 2.50</td>\n",
        "      <td> 3000</td>\n",
        "      <td> 253.456221</td>\n",
        "    </tr>\n",
        "    <tr>\n",
        "      <th>2</th>\n",
        "      <td> 2</td>\n",
        "      <td> 451500</td>\n",
        "      <td> 1993</td>\n",
        "      <td> 2</td>\n",
        "      <td> 1</td>\n",
        "      <td> 1540</td>\n",
        "      <td> 0</td>\n",
        "      <td> 0</td>\n",
        "      <td> 3</td>\n",
        "      <td> 2.25</td>\n",
        "      <td> 3371</td>\n",
        "      <td> 293.181818</td>\n",
        "    </tr>\n",
        "    <tr>\n",
        "      <th>3</th>\n",
        "      <td> 9</td>\n",
        "      <td> 510000</td>\n",
        "      <td> 1994</td>\n",
        "      <td> 2</td>\n",
        "      <td> 1</td>\n",
        "      <td> 1860</td>\n",
        "      <td> 0</td>\n",
        "      <td> 0</td>\n",
        "      <td> 3</td>\n",
        "      <td> 2.50</td>\n",
        "      <td> 3658</td>\n",
        "      <td> 274.193548</td>\n",
        "    </tr>\n",
        "    <tr>\n",
        "      <th>4</th>\n",
        "      <td> 6</td>\n",
        "      <td> 449950</td>\n",
        "      <td> 1994</td>\n",
        "      <td> 2</td>\n",
        "      <td> 1</td>\n",
        "      <td> 1530</td>\n",
        "      <td> 0</td>\n",
        "      <td> 0</td>\n",
        "      <td> 3</td>\n",
        "      <td> 2.50</td>\n",
        "      <td> 3840</td>\n",
        "      <td> 294.084967</td>\n",
        "    </tr>\n",
        "  </tbody>\n",
        "</table>\n",
        "</div>"
       ],
       "metadata": {},
       "output_type": "pyout",
       "prompt_number": 787,
       "text": [
        "   Listing_Month  Sale_Price  Built_Renovated  Grade  Condition  Living_Area  \\\n",
        "0              4      785000             2011      3          1         3010   \n",
        "1              3      550000             2001      2          1         2170   \n",
        "2              2      451500             1993      2          1         1540   \n",
        "3              9      510000             1994      2          1         1860   \n",
        "4              6      449950             1994      2          1         1530   \n",
        "\n",
        "   Total_Basement  Finished_Basement  Bedrooms  Bathrooms  Lot_size   \\\n",
        "0               0                  0         3       2.75       1842   \n",
        "1               0                  0         3       2.50       3000   \n",
        "2               0                  0         3       2.25       3371   \n",
        "3               0                  0         3       2.50       3658   \n",
        "4               0                  0         3       2.50       3840   \n",
        "\n",
        "   Per_Sqft_Price  \n",
        "0      260.797342  \n",
        "1      253.456221  \n",
        "2      293.181818  \n",
        "3      274.193548  \n",
        "4      294.084967  "
       ]
      }
     ],
     "prompt_number": 787
    },
    {
     "cell_type": "code",
     "collapsed": false,
     "input": [
      "X_train, X_test, y_train, y_test = train_test_split(X, y, test_size=.2, random_state=42)"
     ],
     "language": "python",
     "metadata": {},
     "outputs": [],
     "prompt_number": 788
    },
    {
     "cell_type": "code",
     "collapsed": false,
     "input": [
      "n_estimators = [500,1000,1500]\n",
      "max_features = ['auto', 'sqrt','log2']\n",
      "min_samples_split = [3,5,7]\n",
      "\n",
      "\n",
      "rfc = RandomForestClassifier(n_jobs=1)\n",
      "#Parameters of pipelines can be set using \u2018__\u2019 separated parameter names:\n",
      "estimator = GridSearchCV(rfc,\n",
      "                         dict(n_estimators=n_estimators,\n",
      "                              max_features=max_features,\n",
      "                              min_samples_split=min_samples_split\n",
      "                              ), cv=None, n_jobs=-1)"
     ],
     "language": "python",
     "metadata": {},
     "outputs": [],
     "prompt_number": 789
    },
    {
     "cell_type": "code",
     "collapsed": false,
     "input": [
      "estimator.fit(X_train, y_train)"
     ],
     "language": "python",
     "metadata": {},
     "outputs": [
      {
       "metadata": {},
       "output_type": "pyout",
       "prompt_number": 790,
       "text": [
        "GridSearchCV(cv=None,\n",
        "       estimator=RandomForestClassifier(bootstrap=True, compute_importances=None,\n",
        "            criterion='gini', max_depth=None, max_features='auto',\n",
        "            max_leaf_nodes=None, min_density=None, min_samples_leaf=1,\n",
        "            min_samples_split=2, n_estimators=10, n_jobs=1,\n",
        "            oob_score=False, random_state=None, verbose=0),\n",
        "       fit_params={}, iid=True, loss_func=None, n_jobs=-1,\n",
        "       param_grid={'min_samples_split': [3, 5, 7], 'max_features': ['auto', 'sqrt', 'log2'], 'n_estimators': [500, 1000, 1500]},\n",
        "       pre_dispatch='2*n_jobs', refit=True, score_func=None, scoring=None,\n",
        "       verbose=0)"
       ]
      }
     ],
     "prompt_number": 790
    },
    {
     "cell_type": "code",
     "collapsed": false,
     "input": [
      "estimator.best_estimator_"
     ],
     "language": "python",
     "metadata": {},
     "outputs": [
      {
       "metadata": {},
       "output_type": "pyout",
       "prompt_number": 791,
       "text": [
        "RandomForestClassifier(bootstrap=True, compute_importances=None,\n",
        "            criterion='gini', max_depth=None, max_features='log2',\n",
        "            max_leaf_nodes=None, min_density=None, min_samples_leaf=1,\n",
        "            min_samples_split=3, n_estimators=500, n_jobs=1,\n",
        "            oob_score=False, random_state=None, verbose=0)"
       ]
      }
     ],
     "prompt_number": 791
    },
    {
     "cell_type": "code",
     "collapsed": false,
     "input": [
      "best_estimator = estimator.best_estimator_"
     ],
     "language": "python",
     "metadata": {},
     "outputs": [],
     "prompt_number": 792
    },
    {
     "cell_type": "code",
     "collapsed": false,
     "input": [
      "accuracy = accuracy_score(y_test, best_estimator.predict(X_test))\n",
      "print \"Accuracy: \", accuracy"
     ],
     "language": "python",
     "metadata": {},
     "outputs": [
      {
       "output_type": "stream",
       "stream": "stdout",
       "text": [
        "Accuracy:  0.816901408451\n"
       ]
      }
     ],
     "prompt_number": 793
    },
    {
     "cell_type": "code",
     "collapsed": false,
     "input": [
      "print classification_report(y_test, best_estimator.predict(X_test))"
     ],
     "language": "python",
     "metadata": {},
     "outputs": [
      {
       "output_type": "stream",
       "stream": "stdout",
       "text": [
        "             precision    recall  f1-score   support\n",
        "\n",
        "          0       0.50      0.31      0.38        13\n",
        "          1       0.86      0.93      0.89        58\n",
        "\n",
        "avg / total       0.79      0.82      0.80        71\n",
        "\n"
       ]
      }
     ],
     "prompt_number": 794
    },
    {
     "cell_type": "code",
     "collapsed": false,
     "input": [
      "roc = roc_auc_score(y_test, best_estimator.predict_proba(X_test)[:, 1])\n",
      "print \"AUC SCore: \", roc"
     ],
     "language": "python",
     "metadata": {},
     "outputs": [
      {
       "output_type": "stream",
       "stream": "stdout",
       "text": [
        "AUC SCore:  0.736074270557\n"
       ]
      }
     ],
     "prompt_number": 795
    },
    {
     "cell_type": "code",
     "collapsed": false,
     "input": [
      "from sklearn import cross_validation\n",
      "scores = cross_validation.cross_val_score(best_estimator, X, y, cv=10)"
     ],
     "language": "python",
     "metadata": {},
     "outputs": [],
     "prompt_number": 796
    },
    {
     "cell_type": "code",
     "collapsed": false,
     "input": [
      "scores"
     ],
     "language": "python",
     "metadata": {},
     "outputs": [
      {
       "metadata": {},
       "output_type": "pyout",
       "prompt_number": 797,
       "text": [
        "array([ 0.75      ,  0.66666667,  0.63888889,  0.58333333,  0.72222222,\n",
        "        0.88571429,  0.8       ,  0.82857143,  0.61764706,  0.29411765])"
       ]
      }
     ],
     "prompt_number": 797
    },
    {
     "cell_type": "code",
     "collapsed": false,
     "input": [
      "mean_score = scores.mean()\n",
      "std_dev = scores.std()\n",
      "std_error = scores.std() / math.sqrt(scores.shape[0])\n",
      "ci =  2.262 * std_error\n",
      "lower_bound = mean_score - ci\n",
      "upper_bound = mean_score + ci\n",
      "\n",
      "print \"Mean Score is %f +/-  %f\" % (mean_score, ci)\n",
      "print \"Lower bound: %f  Upper Bound: %f\" % (lower_bound, upper_bound)"
     ],
     "language": "python",
     "metadata": {},
     "outputs": [
      {
       "output_type": "stream",
       "stream": "stdout",
       "text": [
        "Mean Score is 0.678716 +/-  0.112979\n",
        "Lower bound: 0.565738  Upper Bound: 0.791695\n"
       ]
      }
     ],
     "prompt_number": 798
    },
    {
     "cell_type": "markdown",
     "metadata": {},
     "source": [
      "While working through the EDA, it was hypothesized that was the most important feature. The code below reveals if the model agrees with the hypothesis"
     ]
    },
    {
     "cell_type": "code",
     "collapsed": false,
     "input": [
      "best_estimator.feature_importances_"
     ],
     "language": "python",
     "metadata": {},
     "outputs": [
      {
       "metadata": {},
       "output_type": "pyout",
       "prompt_number": 799,
       "text": [
        "array([ 0.09520918,  0.12884996,  0.16615309,  0.02737672,  0.01664992,\n",
        "        0.11946427,  0.02595593,  0.03206192,  0.02190541,  0.08776957,\n",
        "        0.12992252,  0.14868152])"
       ]
      }
     ],
     "prompt_number": 799
    },
    {
     "cell_type": "code",
     "collapsed": false,
     "input": [
      "# Simple version that shows all of the variables\n",
      "feature_importances = pd.Series(best_estimator.feature_importances_, index=X.columns)\n",
      "feature_importances.sort()\n",
      "feature_importances.plot(kind=\"barh\", figsize=(7,6));"
     ],
     "language": "python",
     "metadata": {},
     "outputs": [
      {
       "metadata": {},
       "output_type": "display_data",
       "png": "[encoded data removed]",
       "text": [
        "<matplotlib.figure.Figure at 0x561c6780>"
       ]
      }
     ],
     "prompt_number": 800
    },
    {
     "cell_type": "markdown",
     "metadata": {},
     "source": [
      "Now that we know the most important features, we can try the model again without the 3 least important attributes"
     ]
    },
    {
     "cell_type": "markdown",
     "metadata": {},
     "source": [
      "###Second Model"
     ]
    },
    {
     "cell_type": "code",
     "collapsed": false,
     "input": [
      "W = X"
     ],
     "language": "python",
     "metadata": {},
     "outputs": [],
     "prompt_number": 801
    },
    {
     "cell_type": "code",
     "collapsed": false,
     "input": [
      "\n",
      "W = W.drop(['Grade'], axis=1)\n",
      "W = W.drop(['Bedrooms'], axis=1)\n",
      "W = W.drop(['Condition'], axis=1)"
     ],
     "language": "python",
     "metadata": {},
     "outputs": [],
     "prompt_number": 802
    },
    {
     "cell_type": "code",
     "collapsed": false,
     "input": [
      "W_train, W_test, y_train, y_test = train_test_split(W, y, test_size=.2, random_state=42)"
     ],
     "language": "python",
     "metadata": {},
     "outputs": [],
     "prompt_number": 803
    },
    {
     "cell_type": "code",
     "collapsed": false,
     "input": [
      "n_estimators = [500,1000,1500]\n",
      "max_features = ['auto', 'sqrt','log2']\n",
      "min_samples_split = [3,5,7]\n",
      "\n",
      "\n",
      "rfc = RandomForestClassifier(n_jobs=1)\n",
      "#Parameters of pipelines can be set using \u2018__\u2019 separated parameter names:\n",
      "estimator = GridSearchCV(rfc,\n",
      "                         dict(n_estimators=n_estimators,\n",
      "                              max_features=max_features,\n",
      "                              min_samples_split=min_samples_split\n",
      "                              ), cv=None, n_jobs=-1)"
     ],
     "language": "python",
     "metadata": {},
     "outputs": [],
     "prompt_number": 804
    },
    {
     "cell_type": "code",
     "collapsed": false,
     "input": [
      "estimator.fit(W_train, y_train)"
     ],
     "language": "python",
     "metadata": {},
     "outputs": [
      {
       "metadata": {},
       "output_type": "pyout",
       "prompt_number": 805,
       "text": [
        "GridSearchCV(cv=None,\n",
        "       estimator=RandomForestClassifier(bootstrap=True, compute_importances=None,\n",
        "            criterion='gini', max_depth=None, max_features='auto',\n",
        "            max_leaf_nodes=None, min_density=None, min_samples_leaf=1,\n",
        "            min_samples_split=2, n_estimators=10, n_jobs=1,\n",
        "            oob_score=False, random_state=None, verbose=0),\n",
        "       fit_params={}, iid=True, loss_func=None, n_jobs=-1,\n",
        "       param_grid={'min_samples_split': [3, 5, 7], 'max_features': ['auto', 'sqrt', 'log2'], 'n_estimators': [500, 1000, 1500]},\n",
        "       pre_dispatch='2*n_jobs', refit=True, score_func=None, scoring=None,\n",
        "       verbose=0)"
       ]
      }
     ],
     "prompt_number": 805
    },
    {
     "cell_type": "code",
     "collapsed": false,
     "input": [
      "estimator.best_estimator_"
     ],
     "language": "python",
     "metadata": {},
     "outputs": [
      {
       "metadata": {},
       "output_type": "pyout",
       "prompt_number": 806,
       "text": [
        "RandomForestClassifier(bootstrap=True, compute_importances=None,\n",
        "            criterion='gini', max_depth=None, max_features='auto',\n",
        "            max_leaf_nodes=None, min_density=None, min_samples_leaf=1,\n",
        "            min_samples_split=7, n_estimators=1000, n_jobs=1,\n",
        "            oob_score=False, random_state=None, verbose=0)"
       ]
      }
     ],
     "prompt_number": 806
    },
    {
     "cell_type": "code",
     "collapsed": false,
     "input": [
      "best_estimator = estimator.best_estimator_"
     ],
     "language": "python",
     "metadata": {},
     "outputs": [],
     "prompt_number": 807
    },
    {
     "cell_type": "code",
     "collapsed": false,
     "input": [
      "accuracy = accuracy_score(y_test, best_estimator.predict(W_test))\n",
      "print \"Accuracy: \", accuracy"
     ],
     "language": "python",
     "metadata": {},
     "outputs": [
      {
       "output_type": "stream",
       "stream": "stdout",
       "text": [
        "Accuracy:  0.830985915493\n"
       ]
      }
     ],
     "prompt_number": 808
    },
    {
     "cell_type": "code",
     "collapsed": false,
     "input": [
      "print classification_report(y_test, best_estimator.predict(W_test))"
     ],
     "language": "python",
     "metadata": {},
     "outputs": [
      {
       "output_type": "stream",
       "stream": "stdout",
       "text": [
        "             precision    recall  f1-score   support\n",
        "\n",
        "          0       0.56      0.38      0.45        13\n",
        "          1       0.87      0.93      0.90        58\n",
        "\n",
        "avg / total       0.81      0.83      0.82        71\n",
        "\n"
       ]
      }
     ],
     "prompt_number": 809
    },
    {
     "cell_type": "code",
     "collapsed": false,
     "input": [
      "roc = roc_auc_score(y_test, best_estimator.predict_proba(W_test) [:, 1])\n",
      "print \"AUC Score: \", roc"
     ],
     "language": "python",
     "metadata": {},
     "outputs": [
      {
       "output_type": "stream",
       "stream": "stdout",
       "text": [
        "AUC Score:  0.724137931034\n"
       ]
      }
     ],
     "prompt_number": 810
    },
    {
     "cell_type": "code",
     "collapsed": false,
     "input": [
      "from sklearn import cross_validation\n",
      "scores = cross_validation.cross_val_score(best_estimator, W, y, cv=10)"
     ],
     "language": "python",
     "metadata": {},
     "outputs": [],
     "prompt_number": 811
    },
    {
     "cell_type": "code",
     "collapsed": false,
     "input": [
      "scores"
     ],
     "language": "python",
     "metadata": {},
     "outputs": [
      {
       "metadata": {},
       "output_type": "pyout",
       "prompt_number": 812,
       "text": [
        "array([ 0.75      ,  0.61111111,  0.63888889,  0.58333333,  0.72222222,\n",
        "        0.88571429,  0.8       ,  0.88571429,  0.67647059,  0.32352941])"
       ]
      }
     ],
     "prompt_number": 812
    },
    {
     "cell_type": "code",
     "collapsed": false,
     "input": [
      "mean_score = scores.mean()\n",
      "std_dev = scores.std()\n",
      "std_error = scores.std() / math.sqrt(scores.shape[0])\n",
      "ci =  2.262 * std_error\n",
      "lower_bound = mean_score - ci\n",
      "upper_bound = mean_score + ci\n",
      "\n",
      "print \"Mean Score is %f +/-  %f\" % (mean_score, ci)\n",
      "print \"Lower bound: %f  Upper Bound: %f\" % (lower_bound, upper_bound)"
     ],
     "language": "python",
     "metadata": {},
     "outputs": [
      {
       "output_type": "stream",
       "stream": "stdout",
       "text": [
        "Mean Score is 0.687698 +/-  0.112645\n",
        "Lower bound: 0.575054  Upper Bound: 0.800343\n"
       ]
      }
     ],
     "prompt_number": 813
    },
    {
     "cell_type": "code",
     "collapsed": false,
     "input": [],
     "language": "python",
     "metadata": {},
     "outputs": []
    }
   ],
   "metadata": {}
  }
 ]
}