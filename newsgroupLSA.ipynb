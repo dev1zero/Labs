{
 "metadata": {
  "name": "",
  "signature": "sha256:1a357b34e865eb038bcc57a47b72b79f2a677f3b33218b6d8f9a69f01eca9c46"
 },
 "nbformat": 3,
 "nbformat_minor": 0,
 "worksheets": [
  {
   "cells": [
    {
     "cell_type": "code",
     "collapsed": false,
     "input": [
      "from nltk.corpus import stopwords\n",
      "from sklearn.feature_extraction.text import TfidfVectorizer\n",
      "from sklearn.decomposition import TruncatedSVD\n",
      "from sklearn.datasets import fetch_20newsgroups\n",
      "categories = ['rec.sport.baseball']\n",
      "dataset = fetch_20newsgroups(subset='all',shuffle=True, random_state=42, categories=categories)\n",
      "\n",
      "corpus = dataset.data\n"
     ],
     "language": "python",
     "metadata": {},
     "outputs": [],
     "prompt_number": 75
    },
    {
     "cell_type": "code",
     "collapsed": false,
     "input": [
      "stopset = set(stopwords.words('english'))\n",
      "stopset.update(['lt','p','/p','br','amp','quot','field','font','normal','span','0px','rgb','style','51', \n",
      "                'spacing','text','helvetica','size','family', 'space', 'arial', 'height', 'indent', 'letter'\n",
      "                'line','none','sans','serif','transform','line','variant','weight','times', 'new','strong', 'video', 'title'\n",
      "                'white','word','letter', 'roman','0pt','16','color','12','14','21', 'neue', 'apple', 'class','00', '01', 'gmt', \n",
      "                '000', '006', '74', '067', '151', '001', '006', '100', '616', '001211', '18457', \n",
      "                '0010', '11', '002251w', '734117130', 'nntp', '002', '755', '003', '759', '0023',\n",
      "                '000th', '0000ahc', 'udcps3', 'cps','004746', '003015', 'vmsb', '005314', '0062', '005', '866',\n",
      "                '0096a95c', 'a0cbe0e8', '0096b0f0', 'c5de05a0', '007', '844', '00ecgillespi', 'leo', 'bsuvc', \n",
      "                '00bjgood', '00pmlemen', '00mbstultz', '00x', 'ito', '010423', '11050', '0100', 'x132',\n",
      "                '00ecgillespie', '0114', '619', '00cgbabbitt', 'bsu', 'edu', '010745', 'acad', '534', '10',\n",
      "                '011653', '7403', '20', '012139', '13444', '013145', '013', '794', '8770',\n",
      "                '015442', '013653', '865', '015', '014', '65', '014', '705', 'wesleyan', 'thomson', 'deshields', 'sandberg',\n",
      "                'morris', '017', '660', 'butler', '613', '0169', '016', '725', '015908', '10416', 'ibm', 'alomar', 'cs', 'com', 're', 'mcreynolds', 'david', 'smith'])"
     ],
     "language": "python",
     "metadata": {},
     "outputs": [],
     "prompt_number": 76
    },
    {
     "cell_type": "code",
     "collapsed": false,
     "input": [
      "vectorizer = TfidfVectorizer(stop_words=stopset,\n",
      "                                 use_idf=True, ngram_range=(1, 3))\n",
      "X = vectorizer.fit_transform(corpus)"
     ],
     "language": "python",
     "metadata": {},
     "outputs": [],
     "prompt_number": 77
    },
    {
     "cell_type": "code",
     "collapsed": false,
     "input": [
      "corpus[0]"
     ],
     "language": "python",
     "metadata": {},
     "outputs": [
      {
       "metadata": {},
       "output_type": "pyout",
       "prompt_number": 78,
       "text": [
        "u\"From: writingctr@leo.bsuvc.bsu.edu\\nSubject: Re: CUB fever.\\nOrganization: Ball State University, Muncie, In - Univ. Computing Svc's\\nLines: 21\\n\\n\\nIn article <kingoz.735285670@camelot>, kingoz@camelot.bradley.edu (Orin Roth) writes:\\n> \\n>    CUB fever is hitting me again. I'm beginning to think they have a \\n>    chance this year. (what the heck am i thinking?)\\n>    Sorry. Just a moment of incompetence.\\n>    I'll be ok. Really. \\n>    Orin.\\n>    Bradley U.\\n> \\n> --\\n> I'm really a jester in disguise!                                   \\nI hear ya!  Then again, we must remember that we are indeed Cub fans, and\\nthat the Cubs will eventually blow it.  After all, the Cubs are the easiest\\nteam in the National League to root for.  No Pressure.  You know they will\\nlose eventually.  Oh well, I suppose we must have faith.  After all, they\\ndo look pretty good, and they don't even have Sandberg back yet.  \\n\\nCUBS IN '93!!!!!\\n\\nCHA\\n\""
       ]
      }
     ],
     "prompt_number": 78
    },
    {
     "cell_type": "code",
     "collapsed": false,
     "input": [
      "X.shape"
     ],
     "language": "python",
     "metadata": {},
     "outputs": [
      {
       "metadata": {},
       "output_type": "pyout",
       "prompt_number": 79,
       "text": [
        "(994, 187146)"
       ]
      }
     ],
     "prompt_number": 79
    },
    {
     "cell_type": "code",
     "collapsed": false,
     "input": [
      "print X[0]"
     ],
     "language": "python",
     "metadata": {},
     "outputs": [
      {
       "output_type": "stream",
       "stream": "stdout",
       "text": [
        "  (0, 49481)\t0.0754228520642\n",
        "  (0, 186411)\t0.0754228520642\n",
        "  (0, 27347)\t0.0754228520642\n",
        "  (0, 60821)\t0.0754228520642\n",
        "  (0, 74589)\t0.0754228520642\n",
        "  (0, 130282)\t0.0754228520642\n",
        "  (0, 100459)\t0.0754228520642\n",
        "  (0, 63442)\t0.0754228520642\n",
        "  (0, 111442)\t0.0754228520642\n",
        "  (0, 159816)\t0.0754228520642\n",
        "  (0, 178029)\t0.0754228520642\n",
        "  (0, 116644)\t0.0754228520642\n",
        "  (0, 61190)\t0.0754228520642\n",
        "  (0, 100951)\t0.0754228520642\n",
        "  (0, 92466)\t0.0754228520642\n",
        "  (0, 130197)\t0.0754228520642\n",
        "  (0, 140232)\t0.0754228520642\n",
        "  (0, 95084)\t0.0754228520642\n",
        "  (0, 112085)\t0.0754228520642\n",
        "  (0, 162209)\t0.0754228520642\n",
        "  (0, 57671)\t0.0754228520642\n",
        "  (0, 49521)\t0.0754228520642\n",
        "  (0, 34158)\t0.0754228520642\n",
        "  (0, 61180)\t0.0754228520642\n",
        "  (0, 49525)\t0.0754228520642\n",
        "  :\t:\n",
        "  (0, 41760)\t0.0401960417324\n",
        "  (0, 164152)\t0.0230742981117\n",
        "  (0, 31184)\t0.0550658026083\n",
        "  (0, 81392)\t0.0351447101477\n",
        "  (0, 182951)\t0.0159643439382\n",
        "  (0, 140480)\t0.0566784428499\n",
        "  (0, 119329)\t0.1133568857\n",
        "  (0, 35953)\t0.101648096086\n",
        "  (0, 39124)\t0.107337740181\n",
        "  (0, 15065)\t0.0754228520642\n",
        "  (0, 91825)\t0.1133568857\n",
        "  (0, 24155)\t0.0165121892083\n",
        "  (0, 97800)\t0.010524729087\n",
        "  (0, 160405)\t0.0623171299328\n",
        "  (0, 46192)\t0.03984138221\n",
        "  (0, 172050)\t0.0401960417324\n",
        "  (0, 111239)\t0.0623171299328\n",
        "  (0, 172085)\t0.0184195377826\n",
        "  (0, 155458)\t0.0382287419684\n",
        "  (0, 27868)\t0.0314356537646\n",
        "  (0, 118716)\t0.0105459061266\n",
        "  (0, 64987)\t0.127859540349\n",
        "  (0, 49405)\t0.165197407825\n",
        "  (0, 158314)\t0.0104614539709\n",
        "  (0, 183887)\t0.0754228520642\n"
       ]
      }
     ],
     "prompt_number": 80
    },
    {
     "cell_type": "code",
     "collapsed": false,
     "input": [
      "lsa = TruncatedSVD(n_components=25, n_iter=100)\n",
      "lsa.fit(X)"
     ],
     "language": "python",
     "metadata": {},
     "outputs": [
      {
       "metadata": {},
       "output_type": "pyout",
       "prompt_number": 83,
       "text": [
        "TruncatedSVD(algorithm='randomized', n_components=25, n_iter=100,\n",
        "       random_state=None, tol=0.0)"
       ]
      }
     ],
     "prompt_number": 83
    },
    {
     "cell_type": "code",
     "collapsed": false,
     "input": [
      "terms = vectorizer.get_feature_names()\n",
      "for i, comp in enumerate(lsa.components_): \n",
      "    termsInComp = zip (terms,comp)\n",
      "    sortedTerms =  sorted(termsInComp, key=lambda x: x[1], reverse=True) [:10]\n",
      "    print \"Concept %d:\" % i\n",
      "    for term in sortedTerms:\n",
      "        print term[0]\n",
      "    print \" \""
     ],
     "language": "python",
     "metadata": {},
     "outputs": [
      {
       "output_type": "stream",
       "stream": "stdout",
       "text": [
        "Concept 0:\n",
        "year\n",
        "team\n",
        "would\n",
        "game\n",
        "writes\n",
        "article\n",
        "baseball\n",
        "players\n",
        "games\n",
        "one\n",
        " \n",
        "Concept 1:"
       ]
      },
      {
       "output_type": "stream",
       "stream": "stdout",
       "text": [
        "\n",
        "baseball\n",
        "lines\n",
        "also\n",
        "years\n",
        "jewish\n",
        "lafayette\n",
        "lafibm\n",
        "vb30\n",
        "019 647 13\n",
        "writes\n",
        " \n",
        "Concept 2:"
       ]
      },
      {
       "output_type": "stream",
       "stream": "stdout",
       "text": [
        "\n",
        "02\n",
        "games\n",
        "host\n",
        "019 647 13\n",
        "get\n",
        "posting host\n",
        "last\n",
        "writes\n",
        "ca\n",
        "go\n",
        " \n",
        "Concept 3:"
       ]
      },
      {
       "output_type": "stream",
       "stream": "stdout",
       "text": [
        "\n",
        "02\n",
        "019 099 may\n",
        "team\n",
        "won\n",
        "year\n",
        "see\n",
        "league\n",
        "baseball\n",
        "one\n",
        "ca\n",
        " \n",
        "Concept 4:"
       ]
      },
      {
       "output_type": "stream",
       "stream": "stdout",
       "text": [
        "\n",
        "02\n",
        "019 647\n",
        "braves\n",
        "also\n",
        "02 02\n",
        "players\n",
        "better\n",
        "lines\n",
        "back\n",
        "something\n",
        " \n",
        "Concept 5:"
       ]
      },
      {
       "output_type": "stream",
       "stream": "stdout",
       "text": [
        "\n",
        "hitter\n",
        "roger\n",
        "would\n",
        "make\n",
        "host\n",
        "go\n",
        "writes article\n",
        "clutch\n",
        "much\n",
        "ever\n",
        " \n",
        "Concept 6:"
       ]
      },
      {
       "output_type": "stream",
       "stream": "stdout",
       "text": [
        "\n",
        "writes\n",
        "university\n",
        "better\n",
        "subject\n",
        "host\n",
        "one\n",
        "think\n",
        "019 099 may\n",
        "hit\n",
        "article\n",
        " \n",
        "Concept 7:"
       ]
      },
      {
       "output_type": "stream",
       "stream": "stdout",
       "text": [
        "\n",
        "year\n",
        "would\n",
        "home\n",
        "good\n",
        "back\n",
        "lines\n",
        "also\n",
        "see\n",
        "posting host\n",
        "bonds\n",
        " \n",
        "Concept 8:"
       ]
      },
      {
       "output_type": "stream",
       "stream": "stdout",
       "text": [
        "\n",
        "one\n",
        "team\n",
        "02\n",
        "could\n",
        "well\n",
        "019 602 lemke\n",
        "back\n",
        "guys\n",
        "believe\n",
        "netcom\n",
        " \n",
        "Concept 9:"
       ]
      },
      {
       "output_type": "stream",
       "stream": "stdout",
       "text": [
        "\n",
        "article\n",
        "019 099\n",
        "like\n",
        "go\n",
        "get\n",
        "host\n",
        "02\n",
        "subject\n",
        "01810 lines rawley\n",
        "won\n",
        " \n",
        "Concept 10:"
       ]
      },
      {
       "output_type": "stream",
       "stream": "stdout",
       "text": [
        "\n",
        "last\n",
        "good\n",
        "time\n",
        "019\n",
        "pitcher\n",
        "see\n",
        "subject\n",
        "games\n",
        "get\n",
        "average\n",
        " \n",
        "Concept 11:"
       ]
      },
      {
       "output_type": "stream",
       "stream": "stdout",
       "text": [
        "\n",
        "subject\n",
        "posting\n",
        "say\n",
        "know\n",
        "would\n",
        "anyone\n",
        "mets\n",
        "nl\n",
        "ve\n",
        "maybe\n",
        " \n",
        "Concept 12:"
       ]
      },
      {
       "output_type": "stream",
       "stream": "stdout",
       "text": [
        "\n",
        "time\n",
        "team\n",
        "way\n",
        "well\n",
        "player\n",
        "two\n",
        "baseball\n",
        "also\n",
        "won\n",
        "distribution\n",
        " \n",
        "Concept 13:"
       ]
      },
      {
       "output_type": "stream",
       "stream": "stdout",
       "text": [
        "\n",
        "hit\n",
        "good\n",
        "won\n",
        "braves\n",
        "players\n",
        "host\n",
        "distribution\n",
        "game\n",
        "jays\n",
        "one\n",
        " \n",
        "Concept 14:"
       ]
      },
      {
       "output_type": "stream",
       "stream": "stdout",
       "text": [
        "\n",
        "first\n",
        "time\n",
        "still\n",
        "players\n",
        "posting\n",
        "team\n",
        "02 02\n",
        "02\n",
        "base\n",
        "019 099 may\n",
        " \n",
        "Concept 15:"
       ]
      },
      {
       "output_type": "stream",
       "stream": "stdout",
       "text": [
        "\n",
        "game\n",
        "019 602 lemke\n",
        "year\n",
        "let\n",
        "posting\n",
        "two\n",
        "even\n",
        "host\n",
        "019 647 13\n",
        "019 647\n",
        " \n",
        "Concept 16:"
       ]
      },
      {
       "output_type": "stream",
       "stream": "stdout",
       "text": [
        "\n",
        "year\n",
        "time\n",
        "players\n",
        "go\n",
        "posting host\n",
        "first\n",
        "pitcher\n",
        "won\n",
        "runs\n",
        "think\n",
        " \n",
        "Concept 17:"
       ]
      },
      {
       "output_type": "stream",
       "stream": "stdout",
       "text": [
        "\n",
        "year\n",
        "game\n",
        "subject\n",
        "games\n",
        "lines\n",
        "time\n",
        "one\n",
        "writes\n",
        "play\n",
        "season\n",
        " \n",
        "Concept 18:"
       ]
      },
      {
       "output_type": "stream",
       "stream": "stdout",
       "text": [
        "\n",
        "baseball\n",
        "get\n",
        "subject\n",
        "player\n",
        "first\n",
        "019 099\n",
        "roger\n",
        "really\n",
        "people\n",
        "least\n",
        " \n",
        "Concept 19:"
       ]
      },
      {
       "output_type": "stream",
       "stream": "stdout",
       "text": [
        "\n",
        "get\n",
        "one\n",
        "well\n",
        "good\n",
        "university\n",
        "better\n",
        "host\n",
        "019\n",
        "would\n",
        "also\n",
        " \n",
        "Concept 20:"
       ]
      },
      {
       "output_type": "stream",
       "stream": "stdout",
       "text": [
        "\n",
        "team\n",
        "players\n",
        "year\n",
        "organization university\n",
        "go\n",
        "posting\n",
        "really\n",
        "article\n",
        "019\n",
        "would\n",
        " \n",
        "Concept 21:"
       ]
      },
      {
       "output_type": "stream",
       "stream": "stdout",
       "text": [
        "\n",
        "last\n",
        "posting\n",
        "year\n",
        "pitching\n",
        "first\n",
        "019 099 may\n",
        "get\n",
        "make\n",
        "would\n",
        "019 647 13\n",
        " \n",
        "Concept 22:"
       ]
      },
      {
       "output_type": "stream",
       "stream": "stdout",
       "text": [
        "\n",
        "players\n",
        "game\n",
        "university\n",
        "games\n",
        "02 02\n",
        "019 099\n",
        "know\n",
        "subject\n",
        "could\n",
        "might\n",
        " \n",
        "Concept 23:"
       ]
      },
      {
       "output_type": "stream",
       "stream": "stdout",
       "text": [
        "\n",
        "019 099 may\n",
        "02 02\n",
        "lines\n",
        "01810 lines rawley\n",
        "well\n",
        "team\n",
        "host\n",
        "posting host\n",
        "subject\n",
        "win\n",
        " \n",
        "Concept 24:"
       ]
      },
      {
       "output_type": "stream",
       "stream": "stdout",
       "text": [
        "\n",
        "one\n",
        "posting host\n",
        "organization\n",
        "lines\n",
        "would\n",
        "019 099\n",
        "019 602 lemke\n",
        "good\n",
        "first\n",
        "player\n",
        " \n"
       ]
      }
     ],
     "prompt_number": 84
    },
    {
     "cell_type": "code",
     "collapsed": false,
     "input": [],
     "language": "python",
     "metadata": {},
     "outputs": []
    }
   ],
   "metadata": {}
  }
 ]
}