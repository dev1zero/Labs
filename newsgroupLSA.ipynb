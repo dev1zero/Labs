{
 "metadata": {
  "name": "",
  "signature": "sha256:27d697402b8e2836bd79ffd8c69952da0cacc3ef8f00026074309f8aad4535b0"
 },
 "nbformat": 3,
 "nbformat_minor": 0,
 "worksheets": [
  {
   "cells": [
    {
     "cell_type": "code",
     "collapsed": false,
     "input": [
      "from nltk.corpus import stopwords\n",
      "from sklearn.feature_extraction.text import TfidfVectorizer\n",
      "from sklearn.decomposition import TruncatedSVD\n",
      "from sklearn.datasets import fetch_20newsgroups\n",
      "categories = ['rec.sport.baseball']\n",
      "dataset = fetch_20newsgroups(subset='all',shuffle=True, random_state=42, categories=categories)\n",
      "\n",
      "corpus = dataset.data\n"
     ],
     "language": "python",
     "metadata": {},
     "outputs": [],
     "prompt_number": 47
    },
    {
     "cell_type": "code",
     "collapsed": false,
     "input": [
      "stopset = set(stopwords.words('english'))\n",
      "stopset.update(['lt','p','/p','br','amp','quot','field','font','normal','span','0px','rgb','style','51', \n",
      "                'spacing','text','helvetica','size','family', 'space', 'arial', 'height', 'indent', 'letter'\n",
      "                'line','none','sans','serif','transform','line','variant','weight','times', 'new','strong', 'video', 'title'\n",
      "                'white','word','letter', 'roman','0pt','16','color','12','14','21', 'neue', 'apple', 'class','00', '01', 'gmt', \n",
      "                '000', '006', '74', '067', '151', '001', '006', '100', '616', '001211', '18457', \n",
      "                '0010', '11', '002251w', '734117130', 'nntp', '002', '755', '003', '759', '0023',\n",
      "                '000th', '0000ahc', 'udcps3', 'cps','004746', '003015', 'vmsb', '005314', '0062', '005', '866',\n",
      "                '0096a95c', 'a0cbe0e8', '0096b0f0', 'c5de05a0', '007', '844', '00ecgillespi', 'leo', 'bsuvc', \n",
      "                '00bjgood', '00pmlemen', '00mbstultz', '00x', 'ito', '010423', '11050', '0100', 'x132',\n",
      "                '00ecgillespie', '0114', '619', '00cgbabbitt', 'bsu', 'edu', '010745', 'acad', '534', '10',\n",
      "                '011653', '7403', '20', '012139', '13444', '013145', '013', '794', '8770',\n",
      "                '015442', '013653', '865', '015', '014', '65', '014', '705', 'wesleyan', 'thomson', 'deshields', 'sandberg',])"
     ],
     "language": "python",
     "metadata": {},
     "outputs": [],
     "prompt_number": 48
    },
    {
     "cell_type": "code",
     "collapsed": false,
     "input": [
      "vectorizer = TfidfVectorizer(stop_words=stopset,\n",
      "                                 use_idf=True, ngram_range=(1, 3))\n",
      "X = vectorizer.fit_transform(corpus)"
     ],
     "language": "python",
     "metadata": {},
     "outputs": [],
     "prompt_number": 49
    },
    {
     "cell_type": "code",
     "collapsed": false,
     "input": [
      "corpus[0]"
     ],
     "language": "python",
     "metadata": {},
     "outputs": [
      {
       "metadata": {},
       "output_type": "pyout",
       "prompt_number": 51,
       "text": [
        "u\"From: writingctr@leo.bsuvc.bsu.edu\\nSubject: Re: CUB fever.\\nOrganization: Ball State University, Muncie, In - Univ. Computing Svc's\\nLines: 21\\n\\n\\nIn article <kingoz.735285670@camelot>, kingoz@camelot.bradley.edu (Orin Roth) writes:\\n> \\n>    CUB fever is hitting me again. I'm beginning to think they have a \\n>    chance this year. (what the heck am i thinking?)\\n>    Sorry. Just a moment of incompetence.\\n>    I'll be ok. Really. \\n>    Orin.\\n>    Bradley U.\\n> \\n> --\\n> I'm really a jester in disguise!                                   \\nI hear ya!  Then again, we must remember that we are indeed Cub fans, and\\nthat the Cubs will eventually blow it.  After all, the Cubs are the easiest\\nteam in the National League to root for.  No Pressure.  You know they will\\nlose eventually.  Oh well, I suppose we must have faith.  After all, they\\ndo look pretty good, and they don't even have Sandberg back yet.  \\n\\nCUBS IN '93!!!!!\\n\\nCHA\\n\""
       ]
      }
     ],
     "prompt_number": 51
    },
    {
     "cell_type": "code",
     "collapsed": false,
     "input": [
      "X.shape"
     ],
     "language": "python",
     "metadata": {},
     "outputs": [
      {
       "metadata": {},
       "output_type": "pyout",
       "prompt_number": 52,
       "text": [
        "(994, 188374)"
       ]
      }
     ],
     "prompt_number": 52
    },
    {
     "cell_type": "code",
     "collapsed": false,
     "input": [
      "print X[0]"
     ],
     "language": "python",
     "metadata": {},
     "outputs": [
      {
       "output_type": "stream",
       "stream": "stdout",
       "text": [
        "  (0, 50251)\t0.0751496304937\n",
        "  (0, 187645)\t0.0751496304937\n",
        "  (0, 27497)\t0.0751496304937\n",
        "  (0, 61637)\t0.0751496304937\n",
        "  (0, 75361)\t0.0751496304937\n",
        "  (0, 131003)\t0.0751496304937\n",
        "  (0, 101059)\t0.0751496304937\n",
        "  (0, 64255)\t0.0751496304937\n",
        "  (0, 112252)\t0.0751496304937\n",
        "  (0, 161158)\t0.0751496304937\n",
        "  (0, 179291)\t0.0751496304937\n",
        "  (0, 117404)\t0.0751496304937\n",
        "  (0, 62004)\t0.0751496304937\n",
        "  (0, 101551)\t0.0751496304937\n",
        "  (0, 93108)\t0.0751496304937\n",
        "  (0, 130918)\t0.0751496304937\n",
        "  (0, 141611)\t0.0751496304937\n",
        "  (0, 95713)\t0.0751496304937\n",
        "  (0, 112893)\t0.0751496304937\n",
        "  (0, 163539)\t0.0751496304937\n",
        "  (0, 58513)\t0.0751496304937\n",
        "  (0, 50291)\t0.0751496304937\n",
        "  (0, 34290)\t0.0751496304937\n",
        "  (0, 61994)\t0.0751496304937\n",
        "  (0, 50295)\t0.0751496304937\n",
        "  :\t:\n",
        "  (0, 165476)\t0.0229907107665\n",
        "  (0, 31322)\t0.0548663250673\n",
        "  (0, 82147)\t0.0350173973687\n",
        "  (0, 184187)\t0.0159065126178\n",
        "  (0, 141857)\t0.0564731234707\n",
        "  (0, 120083)\t0.112946246941\n",
        "  (0, 36080)\t0.101279872773\n",
        "  (0, 39270)\t0.10694890596\n",
        "  (0, 15105)\t0.0751496304937\n",
        "  (0, 92519)\t0.112946246941\n",
        "  (0, 24322)\t0.0164523733018\n",
        "  (0, 98410)\t0.0104866029365\n",
        "  (0, 161747)\t0.0620913842385\n",
        "  (0, 46858)\t0.0396970555939\n",
        "  (0, 173342)\t0.0400504303514\n",
        "  (0, 112049)\t0.0620913842385\n",
        "  (0, 173377)\t0.018352812448\n",
        "  (0, 156900)\t0.0380902571905\n",
        "  (0, 28017)\t0.0313217771549\n",
        "  (0, 119471)\t0.0105077032616\n",
        "  (0, 65795)\t0.127396365284\n",
        "  (0, 50175)\t0.164598975202\n",
        "  (0, 135071)\t0.0129611596708\n",
        "  (0, 159718)\t0.0104235570364\n",
        "  (0, 185122)\t0.0751496304937\n"
       ]
      }
     ],
     "prompt_number": 53
    },
    {
     "cell_type": "code",
     "collapsed": false,
     "input": [
      "lsa = TruncatedSVD(n_components=30, n_iter=100)\n",
      "lsa.fit(X)"
     ],
     "language": "python",
     "metadata": {},
     "outputs": [
      {
       "metadata": {},
       "output_type": "pyout",
       "prompt_number": 62,
       "text": [
        "TruncatedSVD(algorithm='randomized', n_components=30, n_iter=100,\n",
        "       random_state=None, tol=0.0)"
       ]
      }
     ],
     "prompt_number": 62
    },
    {
     "cell_type": "code",
     "collapsed": false,
     "input": [
      "terms = vectorizer.get_feature_names()\n",
      "for i, comp in enumerate(lsa.components_): \n",
      "    termsInComp = zip (terms,comp)\n",
      "    sortedTerms =  sorted(termsInComp, key=lambda x: x[1], reverse=True) [:10]\n",
      "    print \"Concept %d:\" % i\n",
      "    for term in sortedTerms:\n",
      "        print term[0]\n",
      "    print \" \""
     ],
     "language": "python",
     "metadata": {},
     "outputs": [
      {
       "output_type": "stream",
       "stream": "stdout",
       "text": [
        "Concept 0:\n",
        "com\n",
        "year\n",
        "team\n",
        "would\n",
        "writes\n",
        "game\n",
        "article\n",
        "cs\n",
        "re\n",
        "baseball\n",
        " \n",
        "Concept 1:"
       ]
      },
      {
       "output_type": "stream",
       "stream": "stdout",
       "text": [
        "\n",
        "like\n",
        "good\n",
        "com\n",
        "016 725 alomar\n",
        "last\n",
        "lines\n",
        "year\n",
        "cs\n",
        "016 725\n",
        "make\n",
        " \n",
        "Concept 2:"
       ]
      },
      {
       "output_type": "stream",
       "stream": "stdout",
       "text": [
        "\n",
        "clutch\n",
        "team\n",
        "hit\n",
        "baseball\n",
        "ball\n",
        "morris\n",
        "players\n",
        "still\n",
        "017 660\n",
        "netcom\n",
        " \n",
        "Concept 3:"
       ]
      },
      {
       "output_type": "stream",
       "stream": "stdout",
       "text": [
        "\n",
        "com\n",
        "well\n",
        "time\n",
        "best\n",
        "good\n",
        "average\n",
        "posting host\n",
        "games\n",
        "lot\n",
        "last year\n",
        " \n",
        "Concept 4:"
       ]
      },
      {
       "output_type": "stream",
       "stream": "stdout",
       "text": [
        "\n",
        "com\n",
        "hit\n",
        "year\n",
        "last\n",
        "ibm\n",
        "016\n",
        "win\n",
        "would\n",
        "well\n",
        "batting\n",
        " \n",
        "Concept 5:"
       ]
      },
      {
       "output_type": "stream",
       "stream": "stdout",
       "text": [
        "\n",
        "re\n",
        "article\n",
        "university\n",
        "com\n",
        "first\n",
        "know\n",
        "much\n",
        "well\n",
        "see\n",
        "get\n",
        " \n",
        "Concept 6:"
       ]
      },
      {
       "output_type": "stream",
       "stream": "stdout",
       "text": [
        "\n",
        "year\n",
        "pitching\n",
        "time\n",
        "host\n",
        "think\n",
        "much\n",
        "team\n",
        "runs\n",
        "017 660 butler\n",
        "would\n",
        " \n",
        "Concept 7:"
       ]
      },
      {
       "output_type": "stream",
       "stream": "stdout",
       "text": [
        "\n",
        "first\n",
        "game\n",
        "cs\n",
        "pitcher\n",
        "player\n",
        "even\n",
        "years\n",
        "two\n",
        "give\n",
        "university\n",
        " \n",
        "Concept 8:"
       ]
      },
      {
       "output_type": "stream",
       "stream": "stdout",
       "text": [
        "\n",
        "better\n",
        "go\n",
        "two\n",
        "0169 fax\n",
        "one\n",
        "lines\n",
        "good\n",
        "017 660\n",
        "year\n",
        "university\n",
        " \n",
        "Concept 9:"
       ]
      },
      {
       "output_type": "stream",
       "stream": "stdout",
       "text": [
        "\n",
        "baseball\n",
        "well\n",
        "last year\n",
        "get\n",
        "think\n",
        "distribution\n",
        "hit\n",
        "could\n",
        "teams\n",
        "016 725\n",
        " \n",
        "Concept 10:"
       ]
      },
      {
       "output_type": "stream",
       "stream": "stdout",
       "text": [
        "\n",
        "year\n",
        "016 725\n",
        "much\n",
        "player\n",
        "well\n",
        "might\n",
        "way\n",
        "com\n",
        "won\n",
        "get\n",
        " \n",
        "Concept 11:"
       ]
      },
      {
       "output_type": "stream",
       "stream": "stdout",
       "text": [
        "\n",
        "good\n",
        "017 660\n",
        "get\n",
        "lines\n",
        "year\n",
        "baseball\n",
        "steve\n",
        "come\n",
        "pitching\n",
        "games\n",
        " \n",
        "Concept 12:"
       ]
      },
      {
       "output_type": "stream",
       "stream": "stdout",
       "text": [
        "\n",
        "would\n",
        "get\n",
        "game\n",
        "cs\n",
        "lot\n",
        "year\n",
        "two\n",
        "com\n",
        "baseball\n",
        "much\n",
        " \n",
        "Concept 13:"
       ]
      },
      {
       "output_type": "stream",
       "stream": "stdout",
       "text": [
        "\n",
        "one\n",
        "games\n",
        "get\n",
        "last\n",
        "first\n",
        "even\n",
        "time\n",
        "organization university\n",
        "player\n",
        "hall\n",
        " \n",
        "Concept 14:"
       ]
      },
      {
       "output_type": "stream",
       "stream": "stdout",
       "text": [
        "\n",
        "subject re\n",
        "players\n",
        "game\n",
        "016 725 alomar\n",
        "017 660 butler\n",
        "016 725\n",
        "com\n",
        "home\n",
        "posting host\n",
        "lines\n",
        " \n",
        "Concept 15:"
       ]
      },
      {
       "output_type": "stream",
       "stream": "stdout",
       "text": [
        "\n",
        "team\n",
        "com\n",
        "games\n",
        "017 660 butler\n",
        "017 660\n",
        "posting\n",
        "lines\n",
        "subject re\n",
        "two\n",
        "baseball\n",
        " \n",
        "Concept 16:"
       ]
      },
      {
       "output_type": "stream",
       "stream": "stdout",
       "text": [
        "\n",
        "com\n",
        "many\n",
        "know\n",
        "last\n",
        "one\n",
        "team\n",
        "back\n",
        "good\n",
        "probably\n",
        "home\n",
        " \n",
        "Concept 17:"
       ]
      },
      {
       "output_type": "stream",
       "stream": "stdout",
       "text": [
        "\n",
        "time\n",
        "season\n",
        "good\n",
        "much\n",
        "university\n",
        "017 660\n",
        "list\n",
        "like\n",
        "com\n",
        "know\n",
        " \n",
        "Concept 18:"
       ]
      },
      {
       "output_type": "stream",
       "stream": "stdout",
       "text": [
        "\n",
        "subject re\n",
        "0169\n",
        "runs\n",
        "hit\n",
        "better\n",
        "even\n",
        "writes\n",
        "good\n",
        "game\n",
        "article\n",
        " \n",
        "Concept 19:"
       ]
      },
      {
       "output_type": "stream",
       "stream": "stdout",
       "text": [
        "\n",
        "game\n",
        "think\n",
        "year\n",
        "season\n",
        "016\n",
        "players\n",
        "com\n",
        "games\n",
        "team\n",
        "right\n",
        " \n",
        "Concept 20:"
       ]
      },
      {
       "output_type": "stream",
       "stream": "stdout",
       "text": [
        "\n",
        "com\n",
        "first\n",
        "really\n",
        "best\n",
        "let\n",
        "get\n",
        "still\n",
        "long\n",
        "organization university\n",
        "017 660\n",
        " \n",
        "Concept 21:"
       ]
      },
      {
       "output_type": "stream",
       "stream": "stdout",
       "text": [
        "\n",
        "cs\n",
        "one\n",
        "think\n",
        "host\n",
        "good\n",
        "win\n",
        "article\n",
        "still\n",
        "morris\n",
        "get\n",
        " \n",
        "Concept 22:"
       ]
      },
      {
       "output_type": "stream",
       "stream": "stdout",
       "text": [
        "\n",
        "baseball\n",
        "last\n",
        "posting\n",
        "com\n",
        "host\n",
        "organization\n",
        "subject\n",
        "016\n",
        "good\n",
        "posting host\n",
        " \n",
        "Concept 23:"
       ]
      },
      {
       "output_type": "stream",
       "stream": "stdout",
       "text": [
        "\n",
        "subject re\n",
        "subject\n",
        "team\n",
        "0169 fax\n",
        "well\n",
        "first\n",
        "re\n",
        "run\n",
        "017 660 butler\n",
        "like\n",
        " \n",
        "Concept 24:"
       ]
      },
      {
       "output_type": "stream",
       "stream": "stdout",
       "text": [
        "\n",
        "year\n",
        "0169 fax 613\n",
        "organization\n",
        "015908 10416 ncar\n",
        "subject\n",
        "one\n",
        "players\n",
        "baseball\n",
        "re\n",
        "writes\n",
        " \n",
        "Concept 25:"
       ]
      },
      {
       "output_type": "stream",
       "stream": "stdout",
       "text": [
        "\n",
        "time\n",
        "article\n",
        "015908 10416 ncar\n",
        "017\n",
        "re\n",
        "go\n",
        "017 660 butler\n",
        "host\n",
        "might\n",
        "pitcher\n",
        " \n",
        "Concept 26:"
       ]
      },
      {
       "output_type": "stream",
       "stream": "stdout",
       "text": [
        "\n",
        "year\n",
        "0169\n",
        "016 725 alomar\n",
        "one\n",
        "re\n",
        "017\n",
        "posting host\n",
        "0169 fax\n",
        "like\n",
        "first\n",
        " \n",
        "Concept 27:"
       ]
      },
      {
       "output_type": "stream",
       "stream": "stdout",
       "text": [
        "\n",
        "article\n",
        "last\n",
        "017 660 butler\n",
        "0169 fax 613\n",
        "016\n",
        "ca\n",
        "016 725\n",
        "really\n",
        "morris\n",
        "first\n",
        " \n",
        "Concept 28:"
       ]
      },
      {
       "output_type": "stream",
       "stream": "stdout",
       "text": [
        "\n",
        "lines\n",
        "0169\n",
        "subject re\n",
        "think\n",
        "game\n",
        "posting\n",
        "much\n",
        "017\n",
        "re\n",
        "something\n",
        " \n",
        "Concept 29:"
       ]
      },
      {
       "output_type": "stream",
       "stream": "stdout",
       "text": [
        "\n",
        "organization\n",
        "017 660 butler\n",
        "writes\n",
        "017\n",
        "game\n",
        "could\n",
        "player\n",
        "even\n",
        "well\n",
        "win\n",
        " \n"
       ]
      }
     ],
     "prompt_number": 63
    },
    {
     "cell_type": "code",
     "collapsed": false,
     "input": [],
     "language": "python",
     "metadata": {},
     "outputs": []
    }
   ],
   "metadata": {}
  }
 ]
}